{
 "cells": [
  {
   "attachments": {},
   "cell_type": "markdown",
   "metadata": {},
   "source": [
    "# **Project Machine Learning**\n",
    "Kyana Marckx, G2E2, 2022 - 2023"
   ]
  },
  {
   "attachments": {},
   "cell_type": "markdown",
   "metadata": {},
   "source": [
    "## Verkennen van de data"
   ]
  },
  {
   "attachments": {},
   "cell_type": "markdown",
   "metadata": {},
   "source": [
    "### Imports"
   ]
  },
  {
   "cell_type": "code",
   "execution_count": 1,
   "metadata": {},
   "outputs": [],
   "source": [
    "import warnings\n",
    "import numpy as np\n",
    "import pandas as pd\n",
    "import seaborn as sns\n",
    "from scipy import stats\n",
    "import matplotlib.pyplot as plt\n",
    "\n",
    "from sklearn.pipeline import Pipeline, make_pipeline\n",
    "from sklearn.metrics import mean_squared_error, ConfusionMatrixDisplay, confusion_matrix, classification_report, f1_score, precision_score, recall_score, r2_score, roc_auc_score, roc_curve, RocCurveDisplay, accuracy_score\n",
    "from sklearn.model_selection import train_test_split, cross_val_score, GridSearchCV\n",
    "from sklearn.preprocessing import StandardScaler, PolynomialFeatures\n",
    "from sklearn.linear_model import SGDClassifier, LogisticRegression\n",
    "from sklearn.ensemble import RandomForestClassifier, VotingClassifier, BaggingClassifier, AdaBoostClassifier, GradientBoostingClassifier\n",
    "from sklearn.svm import LinearSVC, SVC\n",
    "from sklearn.tree import DecisionTreeClassifier\n",
    "\n",
    "warnings.filterwarnings('ignore')"
   ]
  },
  {
   "attachments": {},
   "cell_type": "markdown",
   "metadata": {},
   "source": [
    "### Verkenning"
   ]
  },
  {
   "cell_type": "code",
   "execution_count": 2,
   "metadata": {},
   "outputs": [],
   "source": [
    "# read weblogs.csv\n",
    "weblogs = pd.read_csv('weblogs.csv')"
   ]
  },
  {
   "cell_type": "code",
   "execution_count": 3,
   "metadata": {},
   "outputs": [
    {
     "data": {
      "text/html": [
       "<div>\n",
       "<style scoped>\n",
       "    .dataframe tbody tr th:only-of-type {\n",
       "        vertical-align: middle;\n",
       "    }\n",
       "\n",
       "    .dataframe tbody tr th {\n",
       "        vertical-align: top;\n",
       "    }\n",
       "\n",
       "    .dataframe thead th {\n",
       "        text-align: right;\n",
       "    }\n",
       "</style>\n",
       "<table border=\"1\" class=\"dataframe\">\n",
       "  <thead>\n",
       "    <tr style=\"text-align: right;\">\n",
       "      <th></th>\n",
       "      <th>ID</th>\n",
       "      <th>NUMBER_OF_REQUESTS</th>\n",
       "      <th>TOTAL_DURATION</th>\n",
       "      <th>AVERAGE_TIME</th>\n",
       "      <th>STANDARD_DEVIATION</th>\n",
       "      <th>REPEATED_REQUESTS</th>\n",
       "      <th>HTTP_RESPONSE_2XX</th>\n",
       "      <th>HTTP_RESPONSE_3XX</th>\n",
       "      <th>HTTP_RESPONSE_4XX</th>\n",
       "      <th>HTTP_RESPONSE_5XX</th>\n",
       "      <th>...</th>\n",
       "      <th>DEPTH</th>\n",
       "      <th>STD_DEPTH</th>\n",
       "      <th>CONSECUTIVE</th>\n",
       "      <th>DATA</th>\n",
       "      <th>PPI</th>\n",
       "      <th>SF_REFERRER</th>\n",
       "      <th>SF_FILETYPE</th>\n",
       "      <th>MAX_BARRAGE</th>\n",
       "      <th>PENALTY</th>\n",
       "      <th>ROBOT</th>\n",
       "    </tr>\n",
       "  </thead>\n",
       "  <tbody>\n",
       "    <tr>\n",
       "      <th>0</th>\n",
       "      <td>obSnwGoBCue8G08E_WCX</td>\n",
       "      <td>79</td>\n",
       "      <td>592</td>\n",
       "      <td>7.589744</td>\n",
       "      <td>1.800540</td>\n",
       "      <td>0.000000</td>\n",
       "      <td>0.873418</td>\n",
       "      <td>0.126582</td>\n",
       "      <td>0.000000</td>\n",
       "      <td>0.000000</td>\n",
       "      <td>...</td>\n",
       "      <td>4.0</td>\n",
       "      <td>0.494041</td>\n",
       "      <td>0.101266</td>\n",
       "      <td>1555089.0</td>\n",
       "      <td>2.718334e+07</td>\n",
       "      <td>0.000000</td>\n",
       "      <td>0.205128</td>\n",
       "      <td>1</td>\n",
       "      <td>0</td>\n",
       "      <td>1</td>\n",
       "    </tr>\n",
       "    <tr>\n",
       "      <th>1</th>\n",
       "      <td>nLSnwGoBCue8G08E_WCX</td>\n",
       "      <td>350</td>\n",
       "      <td>103621</td>\n",
       "      <td>296.908300</td>\n",
       "      <td>260.332670</td>\n",
       "      <td>0.000000</td>\n",
       "      <td>0.997143</td>\n",
       "      <td>0.000000</td>\n",
       "      <td>0.002857</td>\n",
       "      <td>0.000000</td>\n",
       "      <td>...</td>\n",
       "      <td>6.0</td>\n",
       "      <td>0.341303</td>\n",
       "      <td>0.425714</td>\n",
       "      <td>2071344.0</td>\n",
       "      <td>1.427714e+01</td>\n",
       "      <td>0.547278</td>\n",
       "      <td>0.461318</td>\n",
       "      <td>4</td>\n",
       "      <td>0</td>\n",
       "      <td>1</td>\n",
       "    </tr>\n",
       "    <tr>\n",
       "      <th>2</th>\n",
       "      <td>ErSowGoBCue8G08ECmHa</td>\n",
       "      <td>15</td>\n",
       "      <td>368</td>\n",
       "      <td>26.285715</td>\n",
       "      <td>87.329780</td>\n",
       "      <td>0.000000</td>\n",
       "      <td>1.000000</td>\n",
       "      <td>0.000000</td>\n",
       "      <td>0.000000</td>\n",
       "      <td>0.000000</td>\n",
       "      <td>...</td>\n",
       "      <td>3.0</td>\n",
       "      <td>0.000000</td>\n",
       "      <td>0.000000</td>\n",
       "      <td>49505.0</td>\n",
       "      <td>1.413333e+01</td>\n",
       "      <td>0.642857</td>\n",
       "      <td>1.000000</td>\n",
       "      <td>2</td>\n",
       "      <td>0</td>\n",
       "      <td>0</td>\n",
       "    </tr>\n",
       "    <tr>\n",
       "      <th>3</th>\n",
       "      <td>E7SowGoBCue8G08ECmHa</td>\n",
       "      <td>28</td>\n",
       "      <td>11</td>\n",
       "      <td>0.407407</td>\n",
       "      <td>1.097447</td>\n",
       "      <td>0.000000</td>\n",
       "      <td>1.000000</td>\n",
       "      <td>0.000000</td>\n",
       "      <td>0.000000</td>\n",
       "      <td>0.000000</td>\n",
       "      <td>...</td>\n",
       "      <td>3.0</td>\n",
       "      <td>0.000000</td>\n",
       "      <td>0.821429</td>\n",
       "      <td>45984.0</td>\n",
       "      <td>1.332143e+01</td>\n",
       "      <td>0.037037</td>\n",
       "      <td>0.148148</td>\n",
       "      <td>5</td>\n",
       "      <td>0</td>\n",
       "      <td>0</td>\n",
       "    </tr>\n",
       "    <tr>\n",
       "      <th>4</th>\n",
       "      <td>FbSowGoBCue8G08ECmHa</td>\n",
       "      <td>9342</td>\n",
       "      <td>80946</td>\n",
       "      <td>8.665668</td>\n",
       "      <td>17.566462</td>\n",
       "      <td>0.000107</td>\n",
       "      <td>0.996896</td>\n",
       "      <td>0.002569</td>\n",
       "      <td>0.000214</td>\n",
       "      <td>0.000321</td>\n",
       "      <td>...</td>\n",
       "      <td>4.0</td>\n",
       "      <td>0.152943</td>\n",
       "      <td>0.953757</td>\n",
       "      <td>83171793.0</td>\n",
       "      <td>1.307407e+01</td>\n",
       "      <td>0.000000</td>\n",
       "      <td>0.023552</td>\n",
       "      <td>1</td>\n",
       "      <td>0</td>\n",
       "      <td>1</td>\n",
       "    </tr>\n",
       "    <tr>\n",
       "      <th>...</th>\n",
       "      <td>...</td>\n",
       "      <td>...</td>\n",
       "      <td>...</td>\n",
       "      <td>...</td>\n",
       "      <td>...</td>\n",
       "      <td>...</td>\n",
       "      <td>...</td>\n",
       "      <td>...</td>\n",
       "      <td>...</td>\n",
       "      <td>...</td>\n",
       "      <td>...</td>\n",
       "      <td>...</td>\n",
       "      <td>...</td>\n",
       "      <td>...</td>\n",
       "      <td>...</td>\n",
       "      <td>...</td>\n",
       "      <td>...</td>\n",
       "      <td>...</td>\n",
       "      <td>...</td>\n",
       "      <td>...</td>\n",
       "      <td>...</td>\n",
       "    </tr>\n",
       "    <tr>\n",
       "      <th>67347</th>\n",
       "      <td>Q7WwwGoBCue8G08Ejh-q</td>\n",
       "      <td>17</td>\n",
       "      <td>2</td>\n",
       "      <td>0.125000</td>\n",
       "      <td>0.330719</td>\n",
       "      <td>0.000000</td>\n",
       "      <td>1.000000</td>\n",
       "      <td>0.000000</td>\n",
       "      <td>0.000000</td>\n",
       "      <td>0.000000</td>\n",
       "      <td>...</td>\n",
       "      <td>6.0</td>\n",
       "      <td>1.131111</td>\n",
       "      <td>0.235294</td>\n",
       "      <td>132109.0</td>\n",
       "      <td>6.470588e+00</td>\n",
       "      <td>0.562500</td>\n",
       "      <td>0.437500</td>\n",
       "      <td>0</td>\n",
       "      <td>0</td>\n",
       "      <td>0</td>\n",
       "    </tr>\n",
       "    <tr>\n",
       "      <th>67348</th>\n",
       "      <td>3rSowGoBCue8G08ETmjV</td>\n",
       "      <td>1</td>\n",
       "      <td>0</td>\n",
       "      <td>0.000000</td>\n",
       "      <td>NaN</td>\n",
       "      <td>0.000000</td>\n",
       "      <td>1.000000</td>\n",
       "      <td>0.000000</td>\n",
       "      <td>0.000000</td>\n",
       "      <td>0.000000</td>\n",
       "      <td>...</td>\n",
       "      <td>4.0</td>\n",
       "      <td>0.000000</td>\n",
       "      <td>0.000000</td>\n",
       "      <td>13172.0</td>\n",
       "      <td>1.500000e+01</td>\n",
       "      <td>NaN</td>\n",
       "      <td>NaN</td>\n",
       "      <td>0</td>\n",
       "      <td>0</td>\n",
       "      <td>1</td>\n",
       "    </tr>\n",
       "    <tr>\n",
       "      <th>67349</th>\n",
       "      <td>ZLW1wGoBCue8G08EmYME</td>\n",
       "      <td>1</td>\n",
       "      <td>0</td>\n",
       "      <td>0.000000</td>\n",
       "      <td>NaN</td>\n",
       "      <td>0.000000</td>\n",
       "      <td>1.000000</td>\n",
       "      <td>0.000000</td>\n",
       "      <td>0.000000</td>\n",
       "      <td>0.000000</td>\n",
       "      <td>...</td>\n",
       "      <td>3.0</td>\n",
       "      <td>0.000000</td>\n",
       "      <td>0.000000</td>\n",
       "      <td>1357.0</td>\n",
       "      <td>9.000000e+00</td>\n",
       "      <td>NaN</td>\n",
       "      <td>NaN</td>\n",
       "      <td>0</td>\n",
       "      <td>0</td>\n",
       "      <td>1</td>\n",
       "    </tr>\n",
       "    <tr>\n",
       "      <th>67350</th>\n",
       "      <td>orW0wGoBCue8G08El2_N</td>\n",
       "      <td>1</td>\n",
       "      <td>0</td>\n",
       "      <td>0.000000</td>\n",
       "      <td>NaN</td>\n",
       "      <td>0.000000</td>\n",
       "      <td>1.000000</td>\n",
       "      <td>0.000000</td>\n",
       "      <td>0.000000</td>\n",
       "      <td>0.000000</td>\n",
       "      <td>...</td>\n",
       "      <td>4.0</td>\n",
       "      <td>0.000000</td>\n",
       "      <td>0.000000</td>\n",
       "      <td>7904.0</td>\n",
       "      <td>1.200000e+01</td>\n",
       "      <td>NaN</td>\n",
       "      <td>NaN</td>\n",
       "      <td>0</td>\n",
       "      <td>0</td>\n",
       "      <td>1</td>\n",
       "    </tr>\n",
       "    <tr>\n",
       "      <th>67351</th>\n",
       "      <td>jrW0wGoBCue8G08E2HMX</td>\n",
       "      <td>1</td>\n",
       "      <td>0</td>\n",
       "      <td>0.000000</td>\n",
       "      <td>NaN</td>\n",
       "      <td>0.000000</td>\n",
       "      <td>1.000000</td>\n",
       "      <td>0.000000</td>\n",
       "      <td>0.000000</td>\n",
       "      <td>0.000000</td>\n",
       "      <td>...</td>\n",
       "      <td>5.0</td>\n",
       "      <td>0.000000</td>\n",
       "      <td>0.000000</td>\n",
       "      <td>5720.0</td>\n",
       "      <td>5.000000e+00</td>\n",
       "      <td>NaN</td>\n",
       "      <td>NaN</td>\n",
       "      <td>0</td>\n",
       "      <td>0</td>\n",
       "      <td>1</td>\n",
       "    </tr>\n",
       "  </tbody>\n",
       "</table>\n",
       "<p>67352 rows × 32 columns</p>\n",
       "</div>"
      ],
      "text/plain": [
       "                         ID  NUMBER_OF_REQUESTS  TOTAL_DURATION  AVERAGE_TIME  \\\n",
       "0      obSnwGoBCue8G08E_WCX                  79             592      7.589744   \n",
       "1      nLSnwGoBCue8G08E_WCX                 350          103621    296.908300   \n",
       "2      ErSowGoBCue8G08ECmHa                  15             368     26.285715   \n",
       "3      E7SowGoBCue8G08ECmHa                  28              11      0.407407   \n",
       "4      FbSowGoBCue8G08ECmHa                9342           80946      8.665668   \n",
       "...                     ...                 ...             ...           ...   \n",
       "67347  Q7WwwGoBCue8G08Ejh-q                  17               2      0.125000   \n",
       "67348  3rSowGoBCue8G08ETmjV                   1               0      0.000000   \n",
       "67349  ZLW1wGoBCue8G08EmYME                   1               0      0.000000   \n",
       "67350  orW0wGoBCue8G08El2_N                   1               0      0.000000   \n",
       "67351  jrW0wGoBCue8G08E2HMX                   1               0      0.000000   \n",
       "\n",
       "       STANDARD_DEVIATION  REPEATED_REQUESTS  HTTP_RESPONSE_2XX  \\\n",
       "0                1.800540           0.000000           0.873418   \n",
       "1              260.332670           0.000000           0.997143   \n",
       "2               87.329780           0.000000           1.000000   \n",
       "3                1.097447           0.000000           1.000000   \n",
       "4               17.566462           0.000107           0.996896   \n",
       "...                   ...                ...                ...   \n",
       "67347            0.330719           0.000000           1.000000   \n",
       "67348                 NaN           0.000000           1.000000   \n",
       "67349                 NaN           0.000000           1.000000   \n",
       "67350                 NaN           0.000000           1.000000   \n",
       "67351                 NaN           0.000000           1.000000   \n",
       "\n",
       "       HTTP_RESPONSE_3XX  HTTP_RESPONSE_4XX  HTTP_RESPONSE_5XX  ...  DEPTH  \\\n",
       "0               0.126582           0.000000           0.000000  ...    4.0   \n",
       "1               0.000000           0.002857           0.000000  ...    6.0   \n",
       "2               0.000000           0.000000           0.000000  ...    3.0   \n",
       "3               0.000000           0.000000           0.000000  ...    3.0   \n",
       "4               0.002569           0.000214           0.000321  ...    4.0   \n",
       "...                  ...                ...                ...  ...    ...   \n",
       "67347           0.000000           0.000000           0.000000  ...    6.0   \n",
       "67348           0.000000           0.000000           0.000000  ...    4.0   \n",
       "67349           0.000000           0.000000           0.000000  ...    3.0   \n",
       "67350           0.000000           0.000000           0.000000  ...    4.0   \n",
       "67351           0.000000           0.000000           0.000000  ...    5.0   \n",
       "\n",
       "       STD_DEPTH  CONSECUTIVE        DATA           PPI  SF_REFERRER  \\\n",
       "0       0.494041     0.101266   1555089.0  2.718334e+07     0.000000   \n",
       "1       0.341303     0.425714   2071344.0  1.427714e+01     0.547278   \n",
       "2       0.000000     0.000000     49505.0  1.413333e+01     0.642857   \n",
       "3       0.000000     0.821429     45984.0  1.332143e+01     0.037037   \n",
       "4       0.152943     0.953757  83171793.0  1.307407e+01     0.000000   \n",
       "...          ...          ...         ...           ...          ...   \n",
       "67347   1.131111     0.235294    132109.0  6.470588e+00     0.562500   \n",
       "67348   0.000000     0.000000     13172.0  1.500000e+01          NaN   \n",
       "67349   0.000000     0.000000      1357.0  9.000000e+00          NaN   \n",
       "67350   0.000000     0.000000      7904.0  1.200000e+01          NaN   \n",
       "67351   0.000000     0.000000      5720.0  5.000000e+00          NaN   \n",
       "\n",
       "       SF_FILETYPE  MAX_BARRAGE  PENALTY  ROBOT  \n",
       "0         0.205128            1        0      1  \n",
       "1         0.461318            4        0      1  \n",
       "2         1.000000            2        0      0  \n",
       "3         0.148148            5        0      0  \n",
       "4         0.023552            1        0      1  \n",
       "...            ...          ...      ...    ...  \n",
       "67347     0.437500            0        0      0  \n",
       "67348          NaN            0        0      1  \n",
       "67349          NaN            0        0      1  \n",
       "67350          NaN            0        0      1  \n",
       "67351          NaN            0        0      1  \n",
       "\n",
       "[67352 rows x 32 columns]"
      ]
     },
     "execution_count": 3,
     "metadata": {},
     "output_type": "execute_result"
    }
   ],
   "source": [
    "# check weblogs\n",
    "weblogs"
   ]
  },
  {
   "cell_type": "code",
   "execution_count": 4,
   "metadata": {},
   "outputs": [
    {
     "name": "stdout",
     "output_type": "stream",
     "text": [
      "<class 'pandas.core.frame.DataFrame'>\n",
      "RangeIndex: 67352 entries, 0 to 67351\n",
      "Data columns (total 32 columns):\n",
      " #   Column              Non-Null Count  Dtype  \n",
      "---  ------              --------------  -----  \n",
      " 0   ID                  67352 non-null  object \n",
      " 1   NUMBER_OF_REQUESTS  67352 non-null  int64  \n",
      " 2   TOTAL_DURATION      67352 non-null  int64  \n",
      " 3   AVERAGE_TIME        67352 non-null  float64\n",
      " 4   STANDARD_DEVIATION  52945 non-null  float64\n",
      " 5   REPEATED_REQUESTS   67352 non-null  float64\n",
      " 6   HTTP_RESPONSE_2XX   67352 non-null  float64\n",
      " 7   HTTP_RESPONSE_3XX   67352 non-null  float64\n",
      " 8   HTTP_RESPONSE_4XX   67352 non-null  float64\n",
      " 9   HTTP_RESPONSE_5XX   67352 non-null  float64\n",
      " 10  GET_METHOD          67352 non-null  float64\n",
      " 11  POST_METHOD         67352 non-null  float64\n",
      " 12  HEAD_METHOD         67352 non-null  float64\n",
      " 13  OTHER_METHOD        67352 non-null  float64\n",
      " 14  NIGHT               67352 non-null  float64\n",
      " 15  UNASSIGNED          67352 non-null  float64\n",
      " 16  IMAGES              67352 non-null  float64\n",
      " 17  TOTAL_HTML          67352 non-null  float64\n",
      " 18  HTML_TO_IMAGE       67352 non-null  float64\n",
      " 19  HTML_TO_CSS         67352 non-null  float64\n",
      " 20  HTML_TO_JS          67352 non-null  float64\n",
      " 21  WIDTH               67352 non-null  float64\n",
      " 22  DEPTH               67352 non-null  float64\n",
      " 23  STD_DEPTH           67352 non-null  float64\n",
      " 24  CONSECUTIVE         67352 non-null  float64\n",
      " 25  DATA                67352 non-null  float64\n",
      " 26  PPI                 67352 non-null  float64\n",
      " 27  SF_REFERRER         52945 non-null  float64\n",
      " 28  SF_FILETYPE         52945 non-null  float64\n",
      " 29  MAX_BARRAGE         67352 non-null  int64  \n",
      " 30  PENALTY             67352 non-null  int64  \n",
      " 31  ROBOT               67352 non-null  int64  \n",
      "dtypes: float64(26), int64(5), object(1)\n",
      "memory usage: 16.4+ MB\n"
     ]
    }
   ],
   "source": [
    "# check weblogs info\n",
    "weblogs.info()"
   ]
  },
  {
   "cell_type": "code",
   "execution_count": 5,
   "metadata": {},
   "outputs": [
    {
     "data": {
      "text/html": [
       "<div>\n",
       "<style scoped>\n",
       "    .dataframe tbody tr th:only-of-type {\n",
       "        vertical-align: middle;\n",
       "    }\n",
       "\n",
       "    .dataframe tbody tr th {\n",
       "        vertical-align: top;\n",
       "    }\n",
       "\n",
       "    .dataframe thead th {\n",
       "        text-align: right;\n",
       "    }\n",
       "</style>\n",
       "<table border=\"1\" class=\"dataframe\">\n",
       "  <thead>\n",
       "    <tr style=\"text-align: right;\">\n",
       "      <th></th>\n",
       "      <th>NUMBER_OF_REQUESTS</th>\n",
       "      <th>TOTAL_DURATION</th>\n",
       "      <th>AVERAGE_TIME</th>\n",
       "      <th>STANDARD_DEVIATION</th>\n",
       "      <th>REPEATED_REQUESTS</th>\n",
       "      <th>HTTP_RESPONSE_2XX</th>\n",
       "      <th>HTTP_RESPONSE_3XX</th>\n",
       "      <th>HTTP_RESPONSE_4XX</th>\n",
       "      <th>HTTP_RESPONSE_5XX</th>\n",
       "      <th>GET_METHOD</th>\n",
       "      <th>...</th>\n",
       "      <th>DEPTH</th>\n",
       "      <th>STD_DEPTH</th>\n",
       "      <th>CONSECUTIVE</th>\n",
       "      <th>DATA</th>\n",
       "      <th>PPI</th>\n",
       "      <th>SF_REFERRER</th>\n",
       "      <th>SF_FILETYPE</th>\n",
       "      <th>MAX_BARRAGE</th>\n",
       "      <th>PENALTY</th>\n",
       "      <th>ROBOT</th>\n",
       "    </tr>\n",
       "  </thead>\n",
       "  <tbody>\n",
       "    <tr>\n",
       "      <th>count</th>\n",
       "      <td>67352.000000</td>\n",
       "      <td>6.735200e+04</td>\n",
       "      <td>67352.000000</td>\n",
       "      <td>52945.000000</td>\n",
       "      <td>67352.000000</td>\n",
       "      <td>67352.000000</td>\n",
       "      <td>67352.000000</td>\n",
       "      <td>67352.000000</td>\n",
       "      <td>67352.000000</td>\n",
       "      <td>67352.000000</td>\n",
       "      <td>...</td>\n",
       "      <td>67352.000000</td>\n",
       "      <td>67352.000000</td>\n",
       "      <td>67352.000000</td>\n",
       "      <td>6.735200e+04</td>\n",
       "      <td>6.735200e+04</td>\n",
       "      <td>52945.000000</td>\n",
       "      <td>52945.000000</td>\n",
       "      <td>67352.000000</td>\n",
       "      <td>67352.000000</td>\n",
       "      <td>67352.000000</td>\n",
       "    </tr>\n",
       "    <tr>\n",
       "      <th>mean</th>\n",
       "      <td>60.242354</td>\n",
       "      <td>7.282704e+02</td>\n",
       "      <td>33.599747</td>\n",
       "      <td>40.319142</td>\n",
       "      <td>0.041596</td>\n",
       "      <td>0.979726</td>\n",
       "      <td>0.008104</td>\n",
       "      <td>0.011015</td>\n",
       "      <td>0.001155</td>\n",
       "      <td>0.993014</td>\n",
       "      <td>...</td>\n",
       "      <td>4.843405</td>\n",
       "      <td>0.681596</td>\n",
       "      <td>0.358740</td>\n",
       "      <td>3.221064e+05</td>\n",
       "      <td>1.407726e+06</td>\n",
       "      <td>0.260875</td>\n",
       "      <td>0.385265</td>\n",
       "      <td>14.644198</td>\n",
       "      <td>1.577785</td>\n",
       "      <td>0.200350</td>\n",
       "    </tr>\n",
       "    <tr>\n",
       "      <th>std</th>\n",
       "      <td>170.405463</td>\n",
       "      <td>8.037288e+03</td>\n",
       "      <td>150.974254</td>\n",
       "      <td>89.886341</td>\n",
       "      <td>0.079276</td>\n",
       "      <td>0.111944</td>\n",
       "      <td>0.058313</td>\n",
       "      <td>0.092476</td>\n",
       "      <td>0.026231</td>\n",
       "      <td>0.054588</td>\n",
       "      <td>...</td>\n",
       "      <td>1.491212</td>\n",
       "      <td>0.598631</td>\n",
       "      <td>0.280223</td>\n",
       "      <td>1.937276e+06</td>\n",
       "      <td>4.307353e+07</td>\n",
       "      <td>0.243584</td>\n",
       "      <td>0.248843</td>\n",
       "      <td>19.568441</td>\n",
       "      <td>5.816903</td>\n",
       "      <td>0.400266</td>\n",
       "    </tr>\n",
       "    <tr>\n",
       "      <th>min</th>\n",
       "      <td>1.000000</td>\n",
       "      <td>0.000000e+00</td>\n",
       "      <td>0.000000</td>\n",
       "      <td>0.000000</td>\n",
       "      <td>0.000000</td>\n",
       "      <td>0.000000</td>\n",
       "      <td>0.000000</td>\n",
       "      <td>0.000000</td>\n",
       "      <td>0.000000</td>\n",
       "      <td>0.000000</td>\n",
       "      <td>...</td>\n",
       "      <td>0.000000</td>\n",
       "      <td>0.000000</td>\n",
       "      <td>0.000000</td>\n",
       "      <td>0.000000e+00</td>\n",
       "      <td>4.000000e+00</td>\n",
       "      <td>0.000000</td>\n",
       "      <td>0.000000</td>\n",
       "      <td>0.000000</td>\n",
       "      <td>0.000000</td>\n",
       "      <td>0.000000</td>\n",
       "    </tr>\n",
       "    <tr>\n",
       "      <th>25%</th>\n",
       "      <td>2.000000</td>\n",
       "      <td>1.000000e+00</td>\n",
       "      <td>0.071429</td>\n",
       "      <td>1.000000</td>\n",
       "      <td>0.000000</td>\n",
       "      <td>1.000000</td>\n",
       "      <td>0.000000</td>\n",
       "      <td>0.000000</td>\n",
       "      <td>0.000000</td>\n",
       "      <td>1.000000</td>\n",
       "      <td>...</td>\n",
       "      <td>3.000000</td>\n",
       "      <td>0.000000</td>\n",
       "      <td>0.000000</td>\n",
       "      <td>9.866000e+03</td>\n",
       "      <td>7.166667e+00</td>\n",
       "      <td>0.093750</td>\n",
       "      <td>0.243902</td>\n",
       "      <td>0.000000</td>\n",
       "      <td>0.000000</td>\n",
       "      <td>0.000000</td>\n",
       "    </tr>\n",
       "    <tr>\n",
       "      <th>50%</th>\n",
       "      <td>22.000000</td>\n",
       "      <td>3.700000e+01</td>\n",
       "      <td>1.473684</td>\n",
       "      <td>6.418347</td>\n",
       "      <td>0.000000</td>\n",
       "      <td>1.000000</td>\n",
       "      <td>0.000000</td>\n",
       "      <td>0.000000</td>\n",
       "      <td>0.000000</td>\n",
       "      <td>1.000000</td>\n",
       "      <td>...</td>\n",
       "      <td>6.000000</td>\n",
       "      <td>0.772328</td>\n",
       "      <td>0.380694</td>\n",
       "      <td>9.409250e+04</td>\n",
       "      <td>1.075352e+01</td>\n",
       "      <td>0.200000</td>\n",
       "      <td>0.339450</td>\n",
       "      <td>2.000000</td>\n",
       "      <td>0.000000</td>\n",
       "      <td>0.000000</td>\n",
       "    </tr>\n",
       "    <tr>\n",
       "      <th>75%</th>\n",
       "      <td>63.000000</td>\n",
       "      <td>3.600000e+02</td>\n",
       "      <td>6.686705</td>\n",
       "      <td>31.717476</td>\n",
       "      <td>0.052441</td>\n",
       "      <td>1.000000</td>\n",
       "      <td>0.000000</td>\n",
       "      <td>0.000000</td>\n",
       "      <td>0.000000</td>\n",
       "      <td>1.000000</td>\n",
       "      <td>...</td>\n",
       "      <td>6.000000</td>\n",
       "      <td>1.224745</td>\n",
       "      <td>0.578947</td>\n",
       "      <td>2.688252e+05</td>\n",
       "      <td>1.300000e+01</td>\n",
       "      <td>0.342105</td>\n",
       "      <td>0.500000</td>\n",
       "      <td>28.000000</td>\n",
       "      <td>1.000000</td>\n",
       "      <td>0.000000</td>\n",
       "    </tr>\n",
       "    <tr>\n",
       "      <th>max</th>\n",
       "      <td>15265.000000</td>\n",
       "      <td>1.168297e+06</td>\n",
       "      <td>1800.000000</td>\n",
       "      <td>893.500000</td>\n",
       "      <td>0.500000</td>\n",
       "      <td>1.000000</td>\n",
       "      <td>1.000000</td>\n",
       "      <td>1.000000</td>\n",
       "      <td>1.000000</td>\n",
       "      <td>1.000000</td>\n",
       "      <td>...</td>\n",
       "      <td>9.000000</td>\n",
       "      <td>4.242641</td>\n",
       "      <td>1.000000</td>\n",
       "      <td>1.690364e+08</td>\n",
       "      <td>2.147484e+09</td>\n",
       "      <td>1.000000</td>\n",
       "      <td>1.000000</td>\n",
       "      <td>243.000000</td>\n",
       "      <td>723.000000</td>\n",
       "      <td>1.000000</td>\n",
       "    </tr>\n",
       "  </tbody>\n",
       "</table>\n",
       "<p>8 rows × 31 columns</p>\n",
       "</div>"
      ],
      "text/plain": [
       "       NUMBER_OF_REQUESTS  TOTAL_DURATION  AVERAGE_TIME  STANDARD_DEVIATION  \\\n",
       "count        67352.000000    6.735200e+04  67352.000000        52945.000000   \n",
       "mean            60.242354    7.282704e+02     33.599747           40.319142   \n",
       "std            170.405463    8.037288e+03    150.974254           89.886341   \n",
       "min              1.000000    0.000000e+00      0.000000            0.000000   \n",
       "25%              2.000000    1.000000e+00      0.071429            1.000000   \n",
       "50%             22.000000    3.700000e+01      1.473684            6.418347   \n",
       "75%             63.000000    3.600000e+02      6.686705           31.717476   \n",
       "max          15265.000000    1.168297e+06   1800.000000          893.500000   \n",
       "\n",
       "       REPEATED_REQUESTS  HTTP_RESPONSE_2XX  HTTP_RESPONSE_3XX  \\\n",
       "count       67352.000000       67352.000000       67352.000000   \n",
       "mean            0.041596           0.979726           0.008104   \n",
       "std             0.079276           0.111944           0.058313   \n",
       "min             0.000000           0.000000           0.000000   \n",
       "25%             0.000000           1.000000           0.000000   \n",
       "50%             0.000000           1.000000           0.000000   \n",
       "75%             0.052441           1.000000           0.000000   \n",
       "max             0.500000           1.000000           1.000000   \n",
       "\n",
       "       HTTP_RESPONSE_4XX  HTTP_RESPONSE_5XX    GET_METHOD  ...         DEPTH  \\\n",
       "count       67352.000000       67352.000000  67352.000000  ...  67352.000000   \n",
       "mean            0.011015           0.001155      0.993014  ...      4.843405   \n",
       "std             0.092476           0.026231      0.054588  ...      1.491212   \n",
       "min             0.000000           0.000000      0.000000  ...      0.000000   \n",
       "25%             0.000000           0.000000      1.000000  ...      3.000000   \n",
       "50%             0.000000           0.000000      1.000000  ...      6.000000   \n",
       "75%             0.000000           0.000000      1.000000  ...      6.000000   \n",
       "max             1.000000           1.000000      1.000000  ...      9.000000   \n",
       "\n",
       "          STD_DEPTH   CONSECUTIVE          DATA           PPI   SF_REFERRER  \\\n",
       "count  67352.000000  67352.000000  6.735200e+04  6.735200e+04  52945.000000   \n",
       "mean       0.681596      0.358740  3.221064e+05  1.407726e+06      0.260875   \n",
       "std        0.598631      0.280223  1.937276e+06  4.307353e+07      0.243584   \n",
       "min        0.000000      0.000000  0.000000e+00  4.000000e+00      0.000000   \n",
       "25%        0.000000      0.000000  9.866000e+03  7.166667e+00      0.093750   \n",
       "50%        0.772328      0.380694  9.409250e+04  1.075352e+01      0.200000   \n",
       "75%        1.224745      0.578947  2.688252e+05  1.300000e+01      0.342105   \n",
       "max        4.242641      1.000000  1.690364e+08  2.147484e+09      1.000000   \n",
       "\n",
       "        SF_FILETYPE   MAX_BARRAGE       PENALTY         ROBOT  \n",
       "count  52945.000000  67352.000000  67352.000000  67352.000000  \n",
       "mean       0.385265     14.644198      1.577785      0.200350  \n",
       "std        0.248843     19.568441      5.816903      0.400266  \n",
       "min        0.000000      0.000000      0.000000      0.000000  \n",
       "25%        0.243902      0.000000      0.000000      0.000000  \n",
       "50%        0.339450      2.000000      0.000000      0.000000  \n",
       "75%        0.500000     28.000000      1.000000      0.000000  \n",
       "max        1.000000    243.000000    723.000000      1.000000  \n",
       "\n",
       "[8 rows x 31 columns]"
      ]
     },
     "execution_count": 5,
     "metadata": {},
     "output_type": "execute_result"
    }
   ],
   "source": [
    "# describe weblogs\n",
    "weblogs.describe()"
   ]
  },
  {
   "cell_type": "code",
   "execution_count": 6,
   "metadata": {},
   "outputs": [
    {
     "data": {
      "text/plain": [
       "(67352, 32)"
      ]
     },
     "execution_count": 6,
     "metadata": {},
     "output_type": "execute_result"
    }
   ],
   "source": [
    "# check weblogs shape\n",
    "weblogs.shape"
   ]
  },
  {
   "cell_type": "code",
   "execution_count": 7,
   "metadata": {},
   "outputs": [
    {
     "data": {
      "text/plain": [
       "Index(['ID', 'NUMBER_OF_REQUESTS', 'TOTAL_DURATION', 'AVERAGE_TIME',\n",
       "       'STANDARD_DEVIATION', 'REPEATED_REQUESTS', 'HTTP_RESPONSE_2XX',\n",
       "       'HTTP_RESPONSE_3XX', 'HTTP_RESPONSE_4XX', 'HTTP_RESPONSE_5XX',\n",
       "       'GET_METHOD', 'POST_METHOD', 'HEAD_METHOD', 'OTHER_METHOD', 'NIGHT',\n",
       "       'UNASSIGNED', 'IMAGES', 'TOTAL_HTML', 'HTML_TO_IMAGE', 'HTML_TO_CSS',\n",
       "       'HTML_TO_JS', 'WIDTH', 'DEPTH', 'STD_DEPTH', 'CONSECUTIVE', 'DATA',\n",
       "       'PPI', 'SF_REFERRER', 'SF_FILETYPE', 'MAX_BARRAGE', 'PENALTY', 'ROBOT'],\n",
       "      dtype='object')"
      ]
     },
     "execution_count": 7,
     "metadata": {},
     "output_type": "execute_result"
    }
   ],
   "source": [
    "# check weblogs columns\n",
    "weblogs.columns"
   ]
  },
  {
   "attachments": {},
   "cell_type": "markdown",
   "metadata": {},
   "source": [
    "## Data cleaning"
   ]
  },
  {
   "attachments": {},
   "cell_type": "markdown",
   "metadata": {},
   "source": [
    "### Correlation Matrix"
   ]
  },
  {
   "cell_type": "code",
   "execution_count": 8,
   "metadata": {},
   "outputs": [
    {
     "data": {
      "image/png": "[encoded data removed]",
      "text/plain": [
       "<Figure size 1152x936 with 2 Axes>"
      ]
     },
     "metadata": {
      "needs_background": "light"
     },
     "output_type": "display_data"
    },
    {
     "name": "stdout",
     "output_type": "stream",
     "text": [
      "DEPTH                -0.427654\n",
      "STD_DEPTH            -0.396970\n",
      "MAX_BARRAGE          -0.364920\n",
      "CONSECUTIVE          -0.344941\n",
      "SF_REFERRER          -0.319636\n",
      "HTML_TO_IMAGE        -0.303528\n",
      "HTML_TO_JS           -0.245619\n",
      "HTML_TO_CSS          -0.214941\n",
      "REPEATED_REQUESTS    -0.213395\n",
      "SF_FILETYPE          -0.159089\n",
      "PENALTY              -0.124917\n",
      "WIDTH                -0.089059\n",
      "NUMBER_OF_REQUESTS   -0.086990\n",
      "POST_METHOD          -0.069698\n",
      "IMAGES               -0.041017\n",
      "HTTP_RESPONSE_3XX    -0.034007\n",
      "HTTP_RESPONSE_5XX    -0.011061\n",
      "GET_METHOD           -0.009266\n",
      "HTTP_RESPONSE_2XX    -0.003817\n",
      "OTHER_METHOD          0.010243\n",
      "HTTP_RESPONSE_4XX     0.029202\n",
      "PPI                   0.051511\n",
      "HEAD_METHOD           0.060153\n",
      "TOTAL_DURATION        0.076580\n",
      "DATA                  0.085689\n",
      "NIGHT                 0.186689\n",
      "TOTAL_HTML            0.253633\n",
      "AVERAGE_TIME          0.255445\n",
      "STANDARD_DEVIATION    0.321354\n",
      "UNASSIGNED            0.807035\n",
      "ROBOT                 1.000000\n",
      "Name: ROBOT, dtype: float64\n"
     ]
    }
   ],
   "source": [
    "# find relations for robot\n",
    "robot = 'ROBOT'\n",
    "\n",
    "# calculate the correlation coefficients for all columns\n",
    "corrMatrix_All = weblogs.corr()\n",
    "\n",
    "# calculte the correlation coefficients for robot\n",
    "corrMatrix_Robot = corrMatrix_All[robot]\n",
    "\n",
    "# sort the correlation coefficients for robot\n",
    "related = corrMatrix_Robot.sort_values(ascending=True)\n",
    "\n",
    "# plot the correlation coefficients for robot in a heatmap and numbers\n",
    "plt.figure(figsize=(16, 13))\n",
    "sns.heatmap(corrMatrix_All, annot=False, fmt='.2f', cmap='coolwarm')\n",
    "plt.show()\n",
    "print(related)"
   ]
  },
  {
   "attachments": {},
   "cell_type": "markdown",
   "metadata": {},
   "source": [
    "### Values to keep"
   ]
  },
  {
   "cell_type": "code",
   "execution_count": 9,
   "metadata": {},
   "outputs": [],
   "source": [
    "# put the columns to keep in an array\n",
    "keep = ['UNASSIGNED', 'STANDARD_DEVIATION', 'MAX_BARRAGE', 'CONSECUTIVE', 'DEPTH', 'STD_DEPTH', 'SF_REFERRER', 'HTML_TO_IMAGE', 'ROBOT']\n",
    "\n",
    "# plot the pairplot\n",
    "# sns.pairplot(weblogs[keep], hue='ROBOT', palette='husl')"
   ]
  },
  {
   "cell_type": "code",
   "execution_count": 10,
   "metadata": {},
   "outputs": [],
   "source": [
    "# select the wanted columns to keep\n",
    "weblogs_clean = weblogs.loc[:, keep]"
   ]
  },
  {
   "attachments": {},
   "cell_type": "markdown",
   "metadata": {},
   "source": [
    "### Boxplots for outliers"
   ]
  },
  {
   "cell_type": "code",
   "execution_count": 11,
   "metadata": {},
   "outputs": [
    {
     "data": {
      "text/plain": [
       "<matplotlib.lines.Line2D at 0x2a10021b550>"
      ]
     },
     "execution_count": 11,
     "metadata": {},
     "output_type": "execute_result"
    },
    {
     "data": {
      "image/png": "[encoded data removed]",
      "text/plain": [
       "<Figure size 1800x360 with 1 Axes>"
      ]
     },
     "metadata": {
      "needs_background": "light"
     },
     "output_type": "display_data"
    }
   ],
   "source": [
    "# set the figsize and plot the boxplot\n",
    "plt.figure(figsize=(25, 5))\n",
    "sns.boxplot(data=weblogs_clean, x='UNASSIGNED', palette=\"Set3\")\n",
    "median = weblogs_clean['UNASSIGNED'].median()\n",
    "mean = weblogs_clean['UNASSIGNED'].mean()\n",
    "plt.axvline(median, color='lightblue', linestyle='--')\n",
    "plt.axvline(mean, color='pink', linestyle='--')"
   ]
  },
  {
   "cell_type": "code",
   "execution_count": 12,
   "metadata": {},
   "outputs": [
    {
     "data": {
      "text/plain": [
       "<matplotlib.lines.Line2D at 0x2a100b1f8b0>"
      ]
     },
     "execution_count": 12,
     "metadata": {},
     "output_type": "execute_result"
    },
    {
     "data": {
      "image/png": "[encoded data removed]",
      "text/plain": [
       "<Figure size 1800x360 with 1 Axes>"
      ]
     },
     "metadata": {
      "needs_background": "light"
     },
     "output_type": "display_data"
    }
   ],
   "source": [
    "# set the figsize and plot the boxplot\n",
    "plt.figure(figsize=(25, 5))\n",
    "sns.boxplot(data=weblogs_clean, x='STANDARD_DEVIATION', palette=\"Set3\")\n",
    "median = weblogs_clean['STANDARD_DEVIATION'].median()\n",
    "mean = weblogs_clean['STANDARD_DEVIATION'].mean()\n",
    "plt.axvline(median, color='lightblue', linestyle='--')\n",
    "plt.axvline(mean, color='pink', linestyle='--')"
   ]
  },
  {
   "cell_type": "code",
   "execution_count": 13,
   "metadata": {},
   "outputs": [
    {
     "data": {
      "text/plain": [
       "<matplotlib.lines.Line2D at 0x2a100da34c0>"
      ]
     },
     "execution_count": 13,
     "metadata": {},
     "output_type": "execute_result"
    },
    {
     "data": {
      "image/png": "[encoded data removed]",
      "text/plain": [
       "<Figure size 1800x360 with 1 Axes>"
      ]
     },
     "metadata": {
      "needs_background": "light"
     },
     "output_type": "display_data"
    }
   ],
   "source": [
    "# set the figsize and plot the boxplot\n",
    "plt.figure(figsize=(25, 5))\n",
    "sns.boxplot(data=weblogs_clean, x='MAX_BARRAGE', palette=\"Set3\")\n",
    "median = weblogs_clean['MAX_BARRAGE'].median()\n",
    "mean = weblogs_clean['MAX_BARRAGE'].mean()\n",
    "plt.axvline(median, color='lightblue', linestyle='--')\n",
    "plt.axvline(mean, color='pink', linestyle='--')"
   ]
  },
  {
   "cell_type": "code",
   "execution_count": 14,
   "metadata": {},
   "outputs": [
    {
     "data": {
      "text/plain": [
       "<matplotlib.lines.Line2D at 0x2a100e0e880>"
      ]
     },
     "execution_count": 14,
     "metadata": {},
     "output_type": "execute_result"
    },
    {
     "data": {
      "image/png": "[encoded data removed]",
      "text/plain": [
       "<Figure size 1800x360 with 1 Axes>"
      ]
     },
     "metadata": {
      "needs_background": "light"
     },
     "output_type": "display_data"
    }
   ],
   "source": [
    "# set the figsize and plot the boxplot\n",
    "plt.figure(figsize=(25, 5))\n",
    "sns.boxplot(data=weblogs_clean, x='CONSECUTIVE', palette=\"Set3\")\n",
    "median = weblogs_clean['CONSECUTIVE'].median()\n",
    "mean = weblogs_clean['CONSECUTIVE'].mean()\n",
    "plt.axvline(median, color='lightblue', linestyle='--')\n",
    "plt.axvline(mean, color='pink', linestyle='--')"
   ]
  },
  {
   "cell_type": "code",
   "execution_count": 15,
   "metadata": {},
   "outputs": [
    {
     "data": {
      "text/plain": [
       "<matplotlib.lines.Line2D at 0x2a103ff8e50>"
      ]
     },
     "execution_count": 15,
     "metadata": {},
     "output_type": "execute_result"
    },
    {
     "data": {
      "image/png": "[encoded data removed]",
      "text/plain": [
       "<Figure size 1800x360 with 1 Axes>"
      ]
     },
     "metadata": {
      "needs_background": "light"
     },
     "output_type": "display_data"
    }
   ],
   "source": [
    "# set the figsize and plot the boxplot\n",
    "plt.figure(figsize=(25, 5))\n",
    "sns.boxplot(data=weblogs_clean, x='DEPTH', palette=\"Set3\")\n",
    "median = weblogs_clean['DEPTH'].median()\n",
    "mean = weblogs_clean['DEPTH'].mean()\n",
    "plt.axvline(median, color='lightblue', linestyle='--')\n",
    "plt.axvline(mean, color='pink', linestyle='--')"
   ]
  },
  {
   "cell_type": "code",
   "execution_count": 16,
   "metadata": {},
   "outputs": [
    {
     "data": {
      "text/plain": [
       "<matplotlib.lines.Line2D at 0x2a10425b8e0>"
      ]
     },
     "execution_count": 16,
     "metadata": {},
     "output_type": "execute_result"
    },
    {
     "data": {
      "image/png": "[encoded data removed]",
      "text/plain": [
       "<Figure size 1800x360 with 1 Axes>"
      ]
     },
     "metadata": {
      "needs_background": "light"
     },
     "output_type": "display_data"
    }
   ],
   "source": [
    "# set the figsize and plot the boxplot\n",
    "plt.figure(figsize=(25, 5))\n",
    "sns.boxplot(data=weblogs_clean, x='STD_DEPTH', palette=\"Set3\")\n",
    "median = weblogs_clean['STD_DEPTH'].median()\n",
    "mean = weblogs_clean['STD_DEPTH'].mean()\n",
    "plt.axvline(median, color='lightblue', linestyle='--')\n",
    "plt.axvline(mean, color='pink', linestyle='--')"
   ]
  },
  {
   "cell_type": "code",
   "execution_count": 17,
   "metadata": {},
   "outputs": [
    {
     "data": {
      "text/plain": [
       "<matplotlib.lines.Line2D at 0x2a1048e3430>"
      ]
     },
     "execution_count": 17,
     "metadata": {},
     "output_type": "execute_result"
    },
    {
     "data": {
      "image/png": "[encoded data removed]",
      "text/plain": [
       "<Figure size 1800x360 with 1 Axes>"
      ]
     },
     "metadata": {
      "needs_background": "light"
     },
     "output_type": "display_data"
    }
   ],
   "source": [
    "# set the figsize and plot the boxplot\n",
    "plt.figure(figsize=(25, 5))\n",
    "sns.boxplot(data=weblogs_clean, x='SF_REFERRER', palette=\"Set3\")\n",
    "median = weblogs_clean['SF_REFERRER'].median()\n",
    "mean = weblogs_clean['SF_REFERRER'].mean()\n",
    "plt.axvline(median, color='lightblue', linestyle='--')\n",
    "plt.axvline(mean, color='pink', linestyle='--')"
   ]
  },
  {
   "cell_type": "code",
   "execution_count": 18,
   "metadata": {},
   "outputs": [
    {
     "data": {
      "text/plain": [
       "<matplotlib.lines.Line2D at 0x2a104843850>"
      ]
     },
     "execution_count": 18,
     "metadata": {},
     "output_type": "execute_result"
    },
    {
     "data": {
      "image/png": "[encoded data removed]",
      "text/plain": [
       "<Figure size 1800x360 with 1 Axes>"
      ]
     },
     "metadata": {
      "needs_background": "light"
     },
     "output_type": "display_data"
    }
   ],
   "source": [
    "# set the figsize and plot the boxplot\n",
    "plt.figure(figsize=(25, 5))\n",
    "sns.boxplot(data=weblogs_clean, x='HTML_TO_IMAGE', palette=\"Set3\")\n",
    "median = weblogs_clean['HTML_TO_IMAGE'].median()\n",
    "mean = weblogs_clean['HTML_TO_IMAGE'].mean()\n",
    "plt.axvline(x=median, color='lightblue', linestyle='--')\n",
    "plt.axvline(x=mean, color='pink', linestyle='--')"
   ]
  },
  {
   "cell_type": "code",
   "execution_count": 19,
   "metadata": {},
   "outputs": [
    {
     "data": {
      "text/plain": [
       "<matplotlib.lines.Line2D at 0x2a10465e100>"
      ]
     },
     "execution_count": 19,
     "metadata": {},
     "output_type": "execute_result"
    },
    {
     "data": {
      "image/png": "[encoded data removed]",
      "text/plain": [
       "<Figure size 1800x360 with 1 Axes>"
      ]
     },
     "metadata": {
      "needs_background": "light"
     },
     "output_type": "display_data"
    }
   ],
   "source": [
    "# set the figsize and plot the boxplot\n",
    "plt.figure(figsize=(25, 5))\n",
    "sns.boxplot(data=weblogs_clean, x='ROBOT', palette=\"Set3\")\n",
    "median = weblogs_clean['ROBOT'].median()\n",
    "mean = weblogs_clean['ROBOT'].mean()\n",
    "plt.axvline(median, color='lightblue', linestyle='--')\n",
    "plt.axvline(mean, color='pink', linestyle='--')"
   ]
  },
  {
   "attachments": {},
   "cell_type": "markdown",
   "metadata": {},
   "source": [
    "### Handle outliers and missing values"
   ]
  },
  {
   "cell_type": "code",
   "execution_count": 20,
   "metadata": {},
   "outputs": [],
   "source": [
    "# find the outliers for UNASSIGNED and replace them with the median\n",
    "Q3 = weblogs_clean['UNASSIGNED'].quantile(0.75)\n",
    "Q1 = weblogs_clean['UNASSIGNED'].quantile(0.25)\n",
    "IQR = Q3 - Q1\n",
    "\n",
    "outliers = weblogs_clean[(weblogs_clean['UNASSIGNED'] < Q1 - 1.5 * IQR) | (weblogs_clean['UNASSIGNED'] > Q3 + 1.5 * IQR)]\n",
    "weblogs_clean.loc[outliers.index, 'UNASSIGNED'] = weblogs_clean['UNASSIGNED'].median()"
   ]
  },
  {
   "cell_type": "code",
   "execution_count": 21,
   "metadata": {},
   "outputs": [],
   "source": [
    "# find the outliers for STANDARD_DEVIATION and replace them with the median\n",
    "Q3 = weblogs_clean['STANDARD_DEVIATION'].quantile(0.75)\n",
    "Q1 = weblogs_clean['STANDARD_DEVIATION'].quantile(0.25)\n",
    "IQR = Q3 - Q1\n",
    "\n",
    "outliers = weblogs_clean[(weblogs_clean['STANDARD_DEVIATION'] < Q1 - 1.5 * IQR) | (weblogs_clean['STANDARD_DEVIATION'] > Q3 + 1.5 * IQR)]\n",
    "weblogs_clean.loc[outliers.index, 'STANDARD_DEVIATION'] = weblogs_clean['STANDARD_DEVIATION'].median()"
   ]
  },
  {
   "cell_type": "code",
   "execution_count": 22,
   "metadata": {},
   "outputs": [],
   "source": [
    "# find the outliers for MAX_BARRAGE and replace them with the median\n",
    "Q3 = weblogs_clean['MAX_BARRAGE'].quantile(0.75)\n",
    "Q1 = weblogs_clean['MAX_BARRAGE'].quantile(0.25)\n",
    "IQR = Q3 - Q1\n",
    "\n",
    "outliers = weblogs_clean[(weblogs_clean['MAX_BARRAGE'] < Q1 - 1.5 * IQR) | (weblogs_clean['MAX_BARRAGE'] > Q3 + 1.5 * IQR)]\n",
    "weblogs_clean.loc[outliers.index, 'MAX_BARRAGE'] = weblogs_clean['MAX_BARRAGE'].median()"
   ]
  },
  {
   "cell_type": "code",
   "execution_count": 23,
   "metadata": {},
   "outputs": [],
   "source": [
    "# find the outliers for STD_DEPTH and replace them with the median\n",
    "Q3 = weblogs_clean['STD_DEPTH'].quantile(0.75)\n",
    "Q1 = weblogs_clean['STD_DEPTH'].quantile(0.25)\n",
    "IQR = Q3 - Q1\n",
    "\n",
    "outliers = weblogs_clean[(weblogs_clean['STD_DEPTH'] < Q1 - 1.5 * IQR) | (weblogs_clean['STD_DEPTH'] > Q3 + 1.5 * IQR)]\n",
    "weblogs_clean.loc[outliers.index, 'STD_DEPTH'] = weblogs_clean['STD_DEPTH'].median()"
   ]
  },
  {
   "cell_type": "code",
   "execution_count": 24,
   "metadata": {},
   "outputs": [],
   "source": [
    "# find the outliers for SF_REFERRER and replace them with the median\n",
    "Q3 = weblogs_clean['SF_REFERRER'].quantile(0.75)\n",
    "Q1 = weblogs_clean['SF_REFERRER'].quantile(0.25)\n",
    "IQR = Q3 - Q1\n",
    "\n",
    "outliers = weblogs_clean[(weblogs_clean['SF_REFERRER'] < Q1 - 1.5 * IQR) | (weblogs_clean['SF_REFERRER'] > Q3 + 1.5 * IQR)]\n",
    "weblogs_clean.loc[outliers.index, 'SF_REFERRER'] = weblogs_clean['SF_REFERRER'].median()"
   ]
  },
  {
   "cell_type": "code",
   "execution_count": 25,
   "metadata": {},
   "outputs": [],
   "source": [
    "# find the outliers for HTML_TO_IMAGE and replace them with the median\n",
    "Q3 = weblogs_clean['HTML_TO_IMAGE'].quantile(0.75)\n",
    "Q1 = weblogs_clean['HTML_TO_IMAGE'].quantile(0.25)\n",
    "IQR = Q3 - Q1\n",
    "\n",
    "outliers = weblogs_clean[(weblogs_clean['HTML_TO_IMAGE'] < Q1 - 1.5 * IQR) | (weblogs_clean['HTML_TO_IMAGE'] > Q3 + 1.5 * IQR)]\n",
    "weblogs_clean.loc[outliers.index, 'HTML_TO_IMAGE'] = weblogs_clean['HTML_TO_IMAGE'].median()"
   ]
  },
  {
   "cell_type": "code",
   "execution_count": 26,
   "metadata": {},
   "outputs": [
    {
     "data": {
      "text/html": [
       "<div>\n",
       "<style scoped>\n",
       "    .dataframe tbody tr th:only-of-type {\n",
       "        vertical-align: middle;\n",
       "    }\n",
       "\n",
       "    .dataframe tbody tr th {\n",
       "        vertical-align: top;\n",
       "    }\n",
       "\n",
       "    .dataframe thead th {\n",
       "        text-align: right;\n",
       "    }\n",
       "</style>\n",
       "<table border=\"1\" class=\"dataframe\">\n",
       "  <thead>\n",
       "    <tr style=\"text-align: right;\">\n",
       "      <th></th>\n",
       "      <th>UNASSIGNED</th>\n",
       "      <th>STANDARD_DEVIATION</th>\n",
       "      <th>MAX_BARRAGE</th>\n",
       "      <th>CONSECUTIVE</th>\n",
       "      <th>DEPTH</th>\n",
       "      <th>STD_DEPTH</th>\n",
       "      <th>SF_REFERRER</th>\n",
       "      <th>HTML_TO_IMAGE</th>\n",
       "      <th>ROBOT</th>\n",
       "    </tr>\n",
       "  </thead>\n",
       "  <tbody>\n",
       "    <tr>\n",
       "      <th>0</th>\n",
       "      <td>1.000000</td>\n",
       "      <td>1.800540</td>\n",
       "      <td>1</td>\n",
       "      <td>0.101266</td>\n",
       "      <td>4.0</td>\n",
       "      <td>0.494041</td>\n",
       "      <td>0.000000</td>\n",
       "      <td>0.112676</td>\n",
       "      <td>1</td>\n",
       "    </tr>\n",
       "    <tr>\n",
       "      <th>1</th>\n",
       "      <td>0.671429</td>\n",
       "      <td>6.418347</td>\n",
       "      <td>4</td>\n",
       "      <td>0.425714</td>\n",
       "      <td>6.0</td>\n",
       "      <td>0.341303</td>\n",
       "      <td>0.547278</td>\n",
       "      <td>0.000000</td>\n",
       "      <td>1</td>\n",
       "    </tr>\n",
       "    <tr>\n",
       "      <th>2</th>\n",
       "      <td>0.000000</td>\n",
       "      <td>6.418347</td>\n",
       "      <td>2</td>\n",
       "      <td>0.000000</td>\n",
       "      <td>3.0</td>\n",
       "      <td>0.000000</td>\n",
       "      <td>0.642857</td>\n",
       "      <td>1.000000</td>\n",
       "      <td>0</td>\n",
       "    </tr>\n",
       "    <tr>\n",
       "      <th>3</th>\n",
       "      <td>0.000000</td>\n",
       "      <td>1.097447</td>\n",
       "      <td>5</td>\n",
       "      <td>0.821429</td>\n",
       "      <td>3.0</td>\n",
       "      <td>0.000000</td>\n",
       "      <td>0.037037</td>\n",
       "      <td>1.600000</td>\n",
       "      <td>0</td>\n",
       "    </tr>\n",
       "    <tr>\n",
       "      <th>4</th>\n",
       "      <td>1.000000</td>\n",
       "      <td>17.566462</td>\n",
       "      <td>1</td>\n",
       "      <td>0.953757</td>\n",
       "      <td>4.0</td>\n",
       "      <td>0.152943</td>\n",
       "      <td>0.000000</td>\n",
       "      <td>0.011157</td>\n",
       "      <td>1</td>\n",
       "    </tr>\n",
       "    <tr>\n",
       "      <th>5</th>\n",
       "      <td>0.000000</td>\n",
       "      <td>26.161804</td>\n",
       "      <td>6</td>\n",
       "      <td>0.545455</td>\n",
       "      <td>3.0</td>\n",
       "      <td>0.000000</td>\n",
       "      <td>0.200000</td>\n",
       "      <td>0.500000</td>\n",
       "      <td>0</td>\n",
       "    </tr>\n",
       "    <tr>\n",
       "      <th>6</th>\n",
       "      <td>0.010204</td>\n",
       "      <td>1.795295</td>\n",
       "      <td>30</td>\n",
       "      <td>0.551020</td>\n",
       "      <td>6.0</td>\n",
       "      <td>1.281412</td>\n",
       "      <td>0.113402</td>\n",
       "      <td>1.600000</td>\n",
       "      <td>0</td>\n",
       "    </tr>\n",
       "    <tr>\n",
       "      <th>7</th>\n",
       "      <td>0.416667</td>\n",
       "      <td>20.475342</td>\n",
       "      <td>1</td>\n",
       "      <td>0.000000</td>\n",
       "      <td>3.0</td>\n",
       "      <td>0.000000</td>\n",
       "      <td>0.200000</td>\n",
       "      <td>0.000000</td>\n",
       "      <td>0</td>\n",
       "    </tr>\n",
       "    <tr>\n",
       "      <th>8</th>\n",
       "      <td>0.000000</td>\n",
       "      <td>7.437347</td>\n",
       "      <td>32</td>\n",
       "      <td>0.645161</td>\n",
       "      <td>6.0</td>\n",
       "      <td>0.252624</td>\n",
       "      <td>0.172973</td>\n",
       "      <td>3.870968</td>\n",
       "      <td>0</td>\n",
       "    </tr>\n",
       "    <tr>\n",
       "      <th>9</th>\n",
       "      <td>0.090909</td>\n",
       "      <td>4.427189</td>\n",
       "      <td>3</td>\n",
       "      <td>0.363636</td>\n",
       "      <td>6.0</td>\n",
       "      <td>1.489356</td>\n",
       "      <td>0.200000</td>\n",
       "      <td>2.500000</td>\n",
       "      <td>0</td>\n",
       "    </tr>\n",
       "    <tr>\n",
       "      <th>10</th>\n",
       "      <td>1.000000</td>\n",
       "      <td>0.000000</td>\n",
       "      <td>0</td>\n",
       "      <td>0.500000</td>\n",
       "      <td>3.0</td>\n",
       "      <td>0.000000</td>\n",
       "      <td>0.000000</td>\n",
       "      <td>0.000000</td>\n",
       "      <td>0</td>\n",
       "    </tr>\n",
       "    <tr>\n",
       "      <th>11</th>\n",
       "      <td>0.013158</td>\n",
       "      <td>6.418347</td>\n",
       "      <td>31</td>\n",
       "      <td>0.736842</td>\n",
       "      <td>6.0</td>\n",
       "      <td>0.344124</td>\n",
       "      <td>0.120000</td>\n",
       "      <td>3.333333</td>\n",
       "      <td>0</td>\n",
       "    </tr>\n",
       "    <tr>\n",
       "      <th>12</th>\n",
       "      <td>0.570356</td>\n",
       "      <td>6.418347</td>\n",
       "      <td>5</td>\n",
       "      <td>0.362101</td>\n",
       "      <td>5.0</td>\n",
       "      <td>0.300376</td>\n",
       "      <td>0.699248</td>\n",
       "      <td>0.000000</td>\n",
       "      <td>1</td>\n",
       "    </tr>\n",
       "    <tr>\n",
       "      <th>13</th>\n",
       "      <td>0.033333</td>\n",
       "      <td>0.182466</td>\n",
       "      <td>0</td>\n",
       "      <td>0.433333</td>\n",
       "      <td>6.0</td>\n",
       "      <td>0.927857</td>\n",
       "      <td>0.275862</td>\n",
       "      <td>12.000000</td>\n",
       "      <td>0</td>\n",
       "    </tr>\n",
       "    <tr>\n",
       "      <th>14</th>\n",
       "      <td>0.000000</td>\n",
       "      <td>11.100745</td>\n",
       "      <td>0</td>\n",
       "      <td>0.000000</td>\n",
       "      <td>3.0</td>\n",
       "      <td>0.000000</td>\n",
       "      <td>0.212368</td>\n",
       "      <td>0.000000</td>\n",
       "      <td>0</td>\n",
       "    </tr>\n",
       "    <tr>\n",
       "      <th>15</th>\n",
       "      <td>0.076923</td>\n",
       "      <td>0.433013</td>\n",
       "      <td>0</td>\n",
       "      <td>0.615385</td>\n",
       "      <td>6.0</td>\n",
       "      <td>0.707107</td>\n",
       "      <td>0.083333</td>\n",
       "      <td>3.000000</td>\n",
       "      <td>0</td>\n",
       "    </tr>\n",
       "    <tr>\n",
       "      <th>16</th>\n",
       "      <td>0.125000</td>\n",
       "      <td>6.418347</td>\n",
       "      <td>5</td>\n",
       "      <td>0.500000</td>\n",
       "      <td>6.0</td>\n",
       "      <td>1.060660</td>\n",
       "      <td>0.428571</td>\n",
       "      <td>0.500000</td>\n",
       "      <td>0</td>\n",
       "    </tr>\n",
       "    <tr>\n",
       "      <th>17</th>\n",
       "      <td>0.000000</td>\n",
       "      <td>57.968254</td>\n",
       "      <td>31</td>\n",
       "      <td>0.385965</td>\n",
       "      <td>6.0</td>\n",
       "      <td>1.359548</td>\n",
       "      <td>0.339286</td>\n",
       "      <td>2.750000</td>\n",
       "      <td>0</td>\n",
       "    </tr>\n",
       "    <tr>\n",
       "      <th>18</th>\n",
       "      <td>0.200000</td>\n",
       "      <td>6.418347</td>\n",
       "      <td>4</td>\n",
       "      <td>0.200000</td>\n",
       "      <td>6.0</td>\n",
       "      <td>1.095445</td>\n",
       "      <td>0.500000</td>\n",
       "      <td>1.000000</td>\n",
       "      <td>0</td>\n",
       "    </tr>\n",
       "    <tr>\n",
       "      <th>19</th>\n",
       "      <td>0.250000</td>\n",
       "      <td>6.418347</td>\n",
       "      <td>1</td>\n",
       "      <td>0.500000</td>\n",
       "      <td>5.0</td>\n",
       "      <td>1.000000</td>\n",
       "      <td>0.666667</td>\n",
       "      <td>0.000000</td>\n",
       "      <td>0</td>\n",
       "    </tr>\n",
       "    <tr>\n",
       "      <th>20</th>\n",
       "      <td>0.000000</td>\n",
       "      <td>6.418347</td>\n",
       "      <td>23</td>\n",
       "      <td>0.593407</td>\n",
       "      <td>6.0</td>\n",
       "      <td>0.314485</td>\n",
       "      <td>0.211111</td>\n",
       "      <td>3.533333</td>\n",
       "      <td>0</td>\n",
       "    </tr>\n",
       "    <tr>\n",
       "      <th>21</th>\n",
       "      <td>0.022624</td>\n",
       "      <td>55.355020</td>\n",
       "      <td>30</td>\n",
       "      <td>0.687783</td>\n",
       "      <td>6.0</td>\n",
       "      <td>1.078357</td>\n",
       "      <td>0.140909</td>\n",
       "      <td>4.062500</td>\n",
       "      <td>0</td>\n",
       "    </tr>\n",
       "    <tr>\n",
       "      <th>22</th>\n",
       "      <td>0.000000</td>\n",
       "      <td>30.517063</td>\n",
       "      <td>45</td>\n",
       "      <td>0.744604</td>\n",
       "      <td>6.0</td>\n",
       "      <td>0.887579</td>\n",
       "      <td>0.104693</td>\n",
       "      <td>7.307692</td>\n",
       "      <td>0</td>\n",
       "    </tr>\n",
       "    <tr>\n",
       "      <th>23</th>\n",
       "      <td>0.540115</td>\n",
       "      <td>6.418347</td>\n",
       "      <td>7</td>\n",
       "      <td>0.386819</td>\n",
       "      <td>6.0</td>\n",
       "      <td>0.425137</td>\n",
       "      <td>0.688666</td>\n",
       "      <td>0.000000</td>\n",
       "      <td>1</td>\n",
       "    </tr>\n",
       "    <tr>\n",
       "      <th>24</th>\n",
       "      <td>0.080000</td>\n",
       "      <td>5.956037</td>\n",
       "      <td>21</td>\n",
       "      <td>0.600000</td>\n",
       "      <td>3.0</td>\n",
       "      <td>0.000000</td>\n",
       "      <td>0.285714</td>\n",
       "      <td>1.750000</td>\n",
       "      <td>0</td>\n",
       "    </tr>\n",
       "  </tbody>\n",
       "</table>\n",
       "</div>"
      ],
      "text/plain": [
       "    UNASSIGNED  STANDARD_DEVIATION  MAX_BARRAGE  CONSECUTIVE  DEPTH  \\\n",
       "0     1.000000            1.800540            1     0.101266    4.0   \n",
       "1     0.671429            6.418347            4     0.425714    6.0   \n",
       "2     0.000000            6.418347            2     0.000000    3.0   \n",
       "3     0.000000            1.097447            5     0.821429    3.0   \n",
       "4     1.000000           17.566462            1     0.953757    4.0   \n",
       "5     0.000000           26.161804            6     0.545455    3.0   \n",
       "6     0.010204            1.795295           30     0.551020    6.0   \n",
       "7     0.416667           20.475342            1     0.000000    3.0   \n",
       "8     0.000000            7.437347           32     0.645161    6.0   \n",
       "9     0.090909            4.427189            3     0.363636    6.0   \n",
       "10    1.000000            0.000000            0     0.500000    3.0   \n",
       "11    0.013158            6.418347           31     0.736842    6.0   \n",
       "12    0.570356            6.418347            5     0.362101    5.0   \n",
       "13    0.033333            0.182466            0     0.433333    6.0   \n",
       "14    0.000000           11.100745            0     0.000000    3.0   \n",
       "15    0.076923            0.433013            0     0.615385    6.0   \n",
       "16    0.125000            6.418347            5     0.500000    6.0   \n",
       "17    0.000000           57.968254           31     0.385965    6.0   \n",
       "18    0.200000            6.418347            4     0.200000    6.0   \n",
       "19    0.250000            6.418347            1     0.500000    5.0   \n",
       "20    0.000000            6.418347           23     0.593407    6.0   \n",
       "21    0.022624           55.355020           30     0.687783    6.0   \n",
       "22    0.000000           30.517063           45     0.744604    6.0   \n",
       "23    0.540115            6.418347            7     0.386819    6.0   \n",
       "24    0.080000            5.956037           21     0.600000    3.0   \n",
       "\n",
       "    STD_DEPTH  SF_REFERRER  HTML_TO_IMAGE  ROBOT  \n",
       "0    0.494041     0.000000       0.112676      1  \n",
       "1    0.341303     0.547278       0.000000      1  \n",
       "2    0.000000     0.642857       1.000000      0  \n",
       "3    0.000000     0.037037       1.600000      0  \n",
       "4    0.152943     0.000000       0.011157      1  \n",
       "5    0.000000     0.200000       0.500000      0  \n",
       "6    1.281412     0.113402       1.600000      0  \n",
       "7    0.000000     0.200000       0.000000      0  \n",
       "8    0.252624     0.172973       3.870968      0  \n",
       "9    1.489356     0.200000       2.500000      0  \n",
       "10   0.000000     0.000000       0.000000      0  \n",
       "11   0.344124     0.120000       3.333333      0  \n",
       "12   0.300376     0.699248       0.000000      1  \n",
       "13   0.927857     0.275862      12.000000      0  \n",
       "14   0.000000     0.212368       0.000000      0  \n",
       "15   0.707107     0.083333       3.000000      0  \n",
       "16   1.060660     0.428571       0.500000      0  \n",
       "17   1.359548     0.339286       2.750000      0  \n",
       "18   1.095445     0.500000       1.000000      0  \n",
       "19   1.000000     0.666667       0.000000      0  \n",
       "20   0.314485     0.211111       3.533333      0  \n",
       "21   1.078357     0.140909       4.062500      0  \n",
       "22   0.887579     0.104693       7.307692      0  \n",
       "23   0.425137     0.688666       0.000000      1  \n",
       "24   0.000000     0.285714       1.750000      0  "
      ]
     },
     "execution_count": 26,
     "metadata": {},
     "output_type": "execute_result"
    }
   ],
   "source": [
    "# make sure there are no row with \"Nan\" values\n",
    "weblogs_clean = weblogs_clean.fillna(weblogs_clean.mean())\n",
    "\n",
    "weblogs_clean.head(25)"
   ]
  },
  {
   "attachments": {},
   "cell_type": "markdown",
   "metadata": {},
   "source": [
    "### Check the new boxplots"
   ]
  },
  {
   "cell_type": "code",
   "execution_count": 27,
   "metadata": {},
   "outputs": [
    {
     "data": {
      "text/plain": [
       "<matplotlib.lines.Line2D at 0x2a1001d40d0>"
      ]
     },
     "execution_count": 27,
     "metadata": {},
     "output_type": "execute_result"
    },
    {
     "data": {
      "image/png": "[encoded data removed]",
      "text/plain": [
       "<Figure size 1800x360 with 1 Axes>"
      ]
     },
     "metadata": {
      "needs_background": "light"
     },
     "output_type": "display_data"
    }
   ],
   "source": [
    "# set the figsize and plot the boxplot\n",
    "plt.figure(figsize=(25, 5))\n",
    "sns.boxplot(data=weblogs_clean, x='UNASSIGNED', palette=\"Set3\")\n",
    "median = weblogs_clean['UNASSIGNED'].median()\n",
    "mean = weblogs_clean['UNASSIGNED'].mean()\n",
    "plt.axvline(median, color='lightblue', linestyle='--')\n",
    "plt.axvline(mean, color='pink', linestyle='--')"
   ]
  },
  {
   "cell_type": "code",
   "execution_count": 28,
   "metadata": {},
   "outputs": [
    {
     "data": {
      "text/plain": [
       "<matplotlib.lines.Line2D at 0x2a100061fd0>"
      ]
     },
     "execution_count": 28,
     "metadata": {},
     "output_type": "execute_result"
    },
    {
     "data": {
      "image/png": "[encoded data removed]",
      "text/plain": [
       "<Figure size 1800x360 with 1 Axes>"
      ]
     },
     "metadata": {
      "needs_background": "light"
     },
     "output_type": "display_data"
    }
   ],
   "source": [
    "# set the figsize and plot the boxplot\n",
    "plt.figure(figsize=(25, 5))\n",
    "sns.boxplot(data=weblogs_clean, x='STANDARD_DEVIATION', palette=\"Set3\")\n",
    "median = weblogs_clean['STANDARD_DEVIATION'].median()\n",
    "mean = weblogs_clean['STANDARD_DEVIATION'].mean()\n",
    "plt.axvline(median, color='lightblue', linestyle='--')\n",
    "plt.axvline(mean, color='pink', linestyle='--')"
   ]
  },
  {
   "cell_type": "code",
   "execution_count": 29,
   "metadata": {},
   "outputs": [
    {
     "data": {
      "text/plain": [
       "<matplotlib.lines.Line2D at 0x2a10015f760>"
      ]
     },
     "execution_count": 29,
     "metadata": {},
     "output_type": "execute_result"
    },
    {
     "data": {
      "image/png": "[encoded data removed]",
      "text/plain": [
       "<Figure size 1800x360 with 1 Axes>"
      ]
     },
     "metadata": {
      "needs_background": "light"
     },
     "output_type": "display_data"
    }
   ],
   "source": [
    "# set the figsize and plot the boxplot\n",
    "plt.figure(figsize=(25, 5))\n",
    "sns.boxplot(data=weblogs_clean, x='MAX_BARRAGE', palette=\"Set3\")\n",
    "median = weblogs_clean['MAX_BARRAGE'].median()\n",
    "mean = weblogs_clean['MAX_BARRAGE'].mean()\n",
    "plt.axvline(median, color='lightblue', linestyle='--')\n",
    "plt.axvline(mean, color='pink', linestyle='--')"
   ]
  },
  {
   "cell_type": "code",
   "execution_count": 30,
   "metadata": {},
   "outputs": [
    {
     "data": {
      "text/plain": [
       "<matplotlib.lines.Line2D at 0x2a1002bed30>"
      ]
     },
     "execution_count": 30,
     "metadata": {},
     "output_type": "execute_result"
    },
    {
     "data": {
      "image/png": "[encoded data removed]",
      "text/plain": [
       "<Figure size 1800x360 with 1 Axes>"
      ]
     },
     "metadata": {
      "needs_background": "light"
     },
     "output_type": "display_data"
    }
   ],
   "source": [
    "# set the figsize and plot the boxplot\n",
    "plt.figure(figsize=(25, 5))\n",
    "sns.boxplot(data=weblogs_clean, x='CONSECUTIVE', palette=\"Set3\")\n",
    "median = weblogs_clean['CONSECUTIVE'].median()\n",
    "mean = weblogs_clean['CONSECUTIVE'].mean()\n",
    "plt.axvline(median, color='lightblue', linestyle='--')\n",
    "plt.axvline(mean, color='pink', linestyle='--')"
   ]
  },
  {
   "cell_type": "code",
   "execution_count": 31,
   "metadata": {},
   "outputs": [
    {
     "data": {
      "text/plain": [
       "<matplotlib.lines.Line2D at 0x2a1005b9430>"
      ]
     },
     "execution_count": 31,
     "metadata": {},
     "output_type": "execute_result"
    },
    {
     "data": {
      "image/png": "[encoded data removed]",
      "text/plain": [
       "<Figure size 1800x360 with 1 Axes>"
      ]
     },
     "metadata": {
      "needs_background": "light"
     },
     "output_type": "display_data"
    }
   ],
   "source": [
    "# set the figsize and plot the boxplot\n",
    "plt.figure(figsize=(25, 5))\n",
    "sns.boxplot(data=weblogs_clean, x='DEPTH', palette=\"Set3\")\n",
    "median = weblogs_clean['DEPTH'].median()\n",
    "mean = weblogs_clean['DEPTH'].mean()\n",
    "plt.axvline(median, color='lightblue', linestyle='--')\n",
    "plt.axvline(mean, color='pink', linestyle='--')"
   ]
  },
  {
   "cell_type": "code",
   "execution_count": 32,
   "metadata": {},
   "outputs": [
    {
     "data": {
      "text/plain": [
       "<matplotlib.lines.Line2D at 0x2a1003638b0>"
      ]
     },
     "execution_count": 32,
     "metadata": {},
     "output_type": "execute_result"
    },
    {
     "data": {
      "image/png": "[encoded data removed]",
      "text/plain": [
       "<Figure size 1800x360 with 1 Axes>"
      ]
     },
     "metadata": {
      "needs_background": "light"
     },
     "output_type": "display_data"
    }
   ],
   "source": [
    "# set the figsize and plot the boxplot\n",
    "plt.figure(figsize=(25, 5))\n",
    "sns.boxplot(data=weblogs_clean, x='STD_DEPTH', palette=\"Set3\")\n",
    "median = weblogs_clean['STD_DEPTH'].median()\n",
    "mean = weblogs_clean['STD_DEPTH'].mean()\n",
    "plt.axvline(median, color='lightblue', linestyle='--')\n",
    "plt.axvline(mean, color='pink', linestyle='--')"
   ]
  },
  {
   "cell_type": "code",
   "execution_count": 33,
   "metadata": {},
   "outputs": [
    {
     "data": {
      "text/plain": [
       "<matplotlib.lines.Line2D at 0x2a100a5fa30>"
      ]
     },
     "execution_count": 33,
     "metadata": {},
     "output_type": "execute_result"
    },
    {
     "data": {
      "image/png": "[encoded data removed]",
      "text/plain": [
       "<Figure size 1800x360 with 1 Axes>"
      ]
     },
     "metadata": {
      "needs_background": "light"
     },
     "output_type": "display_data"
    }
   ],
   "source": [
    "# set the figsize and plot the boxplot\n",
    "plt.figure(figsize=(25, 5))\n",
    "sns.boxplot(data=weblogs_clean, x='SF_REFERRER', palette=\"Set3\")\n",
    "median = weblogs_clean['SF_REFERRER'].median()\n",
    "mean = weblogs_clean['SF_REFERRER'].mean()\n",
    "plt.axvline(median, color='lightblue', linestyle='--')\n",
    "plt.axvline(mean, color='pink', linestyle='--')"
   ]
  },
  {
   "cell_type": "code",
   "execution_count": 34,
   "metadata": {},
   "outputs": [
    {
     "data": {
      "text/plain": [
       "<matplotlib.lines.Line2D at 0x2a100ae2220>"
      ]
     },
     "execution_count": 34,
     "metadata": {},
     "output_type": "execute_result"
    },
    {
     "data": {
      "image/png": "[encoded data removed]",
      "text/plain": [
       "<Figure size 1800x360 with 1 Axes>"
      ]
     },
     "metadata": {
      "needs_background": "light"
     },
     "output_type": "display_data"
    }
   ],
   "source": [
    "# set the figsize and plot the boxplot\n",
    "plt.figure(figsize=(25, 5))\n",
    "sns.boxplot(data=weblogs_clean, x='HTML_TO_IMAGE', palette=\"Set3\")\n",
    "median = weblogs_clean['HTML_TO_IMAGE'].median()\n",
    "mean = weblogs_clean['HTML_TO_IMAGE'].mean()\n",
    "plt.axvline(x=median, color='lightblue', linestyle='--')\n",
    "plt.axvline(x=mean, color='pink', linestyle='--')"
   ]
  },
  {
   "cell_type": "code",
   "execution_count": 35,
   "metadata": {},
   "outputs": [
    {
     "data": {
      "text/plain": [
       "<matplotlib.lines.Line2D at 0x2a104ceca60>"
      ]
     },
     "execution_count": 35,
     "metadata": {},
     "output_type": "execute_result"
    },
    {
     "data": {
      "image/png": "[encoded data removed]",
      "text/plain": [
       "<Figure size 1800x360 with 1 Axes>"
      ]
     },
     "metadata": {
      "needs_background": "light"
     },
     "output_type": "display_data"
    }
   ],
   "source": [
    "# set the figsize and plot the boxplot\n",
    "plt.figure(figsize=(25, 5))\n",
    "sns.boxplot(data=weblogs_clean, x='ROBOT', palette=\"Set3\")\n",
    "median = weblogs_clean['ROBOT'].median()\n",
    "mean = weblogs_clean['ROBOT'].mean()\n",
    "plt.axvline(median, color='lightblue', linestyle='--')\n",
    "plt.axvline(mean, color='pink', linestyle='--')"
   ]
  },
  {
   "cell_type": "code",
   "execution_count": 36,
   "metadata": {},
   "outputs": [
    {
     "data": {
      "text/plain": [
       "(67352, 9)"
      ]
     },
     "execution_count": 36,
     "metadata": {},
     "output_type": "execute_result"
    }
   ],
   "source": [
    "weblogs_clean.shape"
   ]
  },
  {
   "attachments": {},
   "cell_type": "markdown",
   "metadata": {},
   "source": [
    "## Classificatiemodellen voor de trainingsdata"
   ]
  },
  {
   "attachments": {},
   "cell_type": "markdown",
   "metadata": {},
   "source": [
    "### Optimaal classificatiemodel uitzoeken"
   ]
  },
  {
   "attachments": {},
   "cell_type": "markdown",
   "metadata": {},
   "source": [
    "#### Altijd nodig"
   ]
  },
  {
   "cell_type": "code",
   "execution_count": 37,
   "metadata": {},
   "outputs": [],
   "source": [
    "# set the X and y\n",
    "X = weblogs_clean.drop('ROBOT', axis=1)\n",
    "y = weblogs_clean['ROBOT']\n",
    "\n",
    "# split the data\n",
    "X_train, X_test, y_train, y_test = train_test_split(X, y, test_size=0.2, random_state=42)"
   ]
  },
  {
   "attachments": {},
   "cell_type": "markdown",
   "metadata": {},
   "source": [
    "#### Random Forest Classifier"
   ]
  },
  {
   "cell_type": "code",
   "execution_count": 38,
   "metadata": {},
   "outputs": [],
   "source": [
    "# create the model\n",
    "rfc = RandomForestClassifier(n_estimators=100, random_state=42)\n",
    "\n",
    "# create the pipeline\n",
    "pipeline  = Pipeline([\n",
    "    (\"scaler\", StandardScaler()),\n",
    "    (\"model\", rfc)\n",
    "])\n",
    "\n",
    "# fit and predict the pipeline\n",
    "pipeline.fit(X_train, y_train)\n",
    "pred_rfc = pipeline.predict(X_test)\n",
    "\n",
    "# check the probability score of the model\n",
    "prob_rfc = pipeline.predict_proba(X_test)[:, 1]"
   ]
  },
  {
   "attachments": {},
   "cell_type": "markdown",
   "metadata": {},
   "source": [
    "#### Stochastic Gradient Descent Classifier"
   ]
  },
  {
   "cell_type": "code",
   "execution_count": 39,
   "metadata": {},
   "outputs": [],
   "source": [
    "# create the model\n",
    "sgd = SGDClassifier(loss='log', random_state=42)\n",
    "\n",
    "# create the pipeline\n",
    "pipeline  = Pipeline([\n",
    "    (\"scaler\", StandardScaler()),\n",
    "    (\"model\", sgd)\n",
    "])\n",
    "\n",
    "# fit and pred_sgdict the pipeline\n",
    "pipeline.fit(X_train, y_train)\n",
    "pred_sgd = pipeline.predict(X_test)\n",
    "\n",
    "# check the probability score of the model\n",
    "prob_sgd = pipeline.predict_proba(X_test)[:, 1]"
   ]
  },
  {
   "attachments": {},
   "cell_type": "markdown",
   "metadata": {},
   "source": [
    "#### Linear Support Vector Machine Classifier"
   ]
  },
  {
   "cell_type": "code",
   "execution_count": 40,
   "metadata": {},
   "outputs": [],
   "source": [
    "# create the model\n",
    "lsvc = LinearSVC(random_state=42)\n",
    "\n",
    "# create the pipeline\n",
    "pipeline  = Pipeline([\n",
    "    (\"scaler\", StandardScaler()),\n",
    "    (\"model\", lsvc)\n",
    "])\n",
    "\n",
    "# fit and predict the pipeline\n",
    "pipeline.fit(X_train, y_train)\n",
    "pred_lsvc = pipeline.predict(X_test)"
   ]
  },
  {
   "attachments": {},
   "cell_type": "markdown",
   "metadata": {},
   "source": [
    "#### Support Vector Machine Classifier"
   ]
  },
  {
   "cell_type": "code",
   "execution_count": 41,
   "metadata": {},
   "outputs": [],
   "source": [
    "# create the model\n",
    "svc = SVC(gamma=\"scale\", random_state=42, probability=True)\n",
    "\n",
    "# create the pipeline\n",
    "pipeline  = Pipeline([\n",
    "    (\"scaler\", StandardScaler()),\n",
    "    (\"model\", svc)\n",
    "])\n",
    "\n",
    "# fit and predict the pipeline\n",
    "pipeline.fit(X_train, y_train)\n",
    "pred_svc = pipeline.predict(X_test)\n",
    "\n",
    "# check the probability score of the model\n",
    "prob_svc = pipeline.predict_proba(X_test)[:, 1]"
   ]
  },
  {
   "attachments": {},
   "cell_type": "markdown",
   "metadata": {},
   "source": [
    "#### Logistic Regression"
   ]
  },
  {
   "cell_type": "code",
   "execution_count": 42,
   "metadata": {},
   "outputs": [],
   "source": [
    "# create the model\n",
    "lgr = LogisticRegression(solver=\"lbfgs\", random_state=42)\n",
    "\n",
    "# create the pipeline\n",
    "pipeline  = Pipeline([\n",
    "    (\"scaler\", StandardScaler()),\n",
    "    (\"model\", lgr)\n",
    "])\n",
    "\n",
    "# fit and predict the pipeline\n",
    "pipeline.fit(X_train, y_train)\n",
    "pred_lgr = pipeline.predict(X_test)\n",
    "\n",
    "# check the probability score of the model\n",
    "prob_lgr = pipeline.predict_proba(X_test)[:, 1]"
   ]
  },
  {
   "attachments": {},
   "cell_type": "markdown",
   "metadata": {},
   "source": [
    "#### Decision Tree Classifier"
   ]
  },
  {
   "cell_type": "code",
   "execution_count": 43,
   "metadata": {},
   "outputs": [],
   "source": [
    "# create the model\n",
    "dtc = DecisionTreeClassifier(random_state=42)\n",
    "\n",
    "# create the pipeline\n",
    "pipeline  = Pipeline([\n",
    "    (\"scaler\", StandardScaler()),\n",
    "    (\"model\", dtc)\n",
    "])\n",
    "\n",
    "# fit and predict the pipeline\n",
    "pipeline.fit(X_train, y_train)\n",
    "pred_dtc = pipeline.predict(X_test)\n",
    "\n",
    "# check the probability score of the model\n",
    "prob_dtc = pipeline.predict_proba(X_test)[:, 1]"
   ]
  },
  {
   "attachments": {},
   "cell_type": "markdown",
   "metadata": {},
   "source": [
    "#### Gradient Boosting Classifier"
   ]
  },
  {
   "cell_type": "code",
   "execution_count": 44,
   "metadata": {},
   "outputs": [],
   "source": [
    "# split the data\n",
    "X_train1, X_val, y_train1, y_val = train_test_split(X, y, random_state=49)\n",
    "\n",
    "# create the model\n",
    "gbc = GradientBoostingClassifier(max_depth=2, n_estimators=1500, random_state=42)\n",
    "\n",
    "# create the pipeline\n",
    "pipeline  = Pipeline([\n",
    "    (\"scaler\", StandardScaler()),\n",
    "    (\"model\", gbc)\n",
    "])\n",
    "\n",
    "# fit the model\n",
    "pipeline.fit(X_train1, y_train1)\n",
    "\n",
    "# predict the model\n",
    "pred_gbc = pipeline.predict(X_test)\n",
    "\n",
    "# find the best n_estimators for the model\n",
    "errors = [mean_squared_error(y_val, y_pred) for y_pred in gbc.staged_predict(X_val)]\n",
    "bst_n_estimators = np.argmin(errors) + 1\n",
    "\n",
    "# create the model with the best n_estimators\n",
    "gbc_best = GradientBoostingClassifier(max_depth=2, n_estimators=bst_n_estimators, random_state=42)\n",
    "gbc_best.fit(X_train1, y_train1)\n",
    "\n",
    "# predict the model\n",
    "pred_gbc = gbc_best.predict(X_test)\n",
    "\n",
    "# check the probability score of the model\n",
    "prob_gbc = pipeline.predict_proba(X_test)[:, 1]"
   ]
  },
  {
   "attachments": {},
   "cell_type": "markdown",
   "metadata": {},
   "source": [
    "#### Voting Classifiers"
   ]
  },
  {
   "attachments": {},
   "cell_type": "markdown",
   "metadata": {},
   "source": [
    "##### Hard Voting"
   ]
  },
  {
   "cell_type": "code",
   "execution_count": 45,
   "metadata": {},
   "outputs": [
    {
     "name": "stdout",
     "output_type": "stream",
     "text": [
      "RandomForestClassifier : 95.36040383045061 %\n",
      "SGDClassifier : 92.68057308291885 %\n",
      "LinearSVC : 92.73253656001782 %\n",
      "SVC : 92.53952935936456 %\n",
      "LogisticRegression : 92.93296711454235 %\n",
      "DecisionTreeClassifier : 95.10058644495582 %\n",
      "VotingClassifier : 92.79934674485932 %\n"
     ]
    }
   ],
   "source": [
    "# create the model\n",
    "hard_voting = VotingClassifier(estimators=[('rfc', rfc), ('sgd', sgd), ('lsvc', lsvc), ('svc', svc), ('lgr', lgr), ('dtc', dtc)], voting='hard')\n",
    "\n",
    "# create the pipeline\n",
    "pipeline  = Pipeline([\n",
    "    (\"scaler\", StandardScaler()),\n",
    "    (\"model\", hard_voting)\n",
    "])\n",
    "\n",
    "# fit the pipeline\n",
    "pipeline.fit(X_train, y_train)\n",
    "\n",
    "# print the results\n",
    "for classifier in (rfc, sgd, lsvc, svc, lgr, dtc, hard_voting):\n",
    "    classifier.fit(X_train, y_train)\n",
    "    pred = classifier.predict(X_test)\n",
    "    print(classifier.__class__.__name__, \":\", accuracy_score(y_test, pred) * 100, \"%\")"
   ]
  },
  {
   "attachments": {},
   "cell_type": "markdown",
   "metadata": {},
   "source": [
    "##### Soft Voting"
   ]
  },
  {
   "cell_type": "code",
   "execution_count": 46,
   "metadata": {},
   "outputs": [
    {
     "name": "stdout",
     "output_type": "stream",
     "text": [
      "RandomForestClassifier : 95.36040383045061 %\n",
      "SGDClassifier : 92.68057308291885 %\n",
      "SVC : 92.53952935936456 %\n",
      "LogisticRegression : 92.93296711454235 %\n",
      "DecisionTreeClassifier : 95.10058644495582 %\n",
      "VotingClassifier : 94.0464701952342 %\n"
     ]
    }
   ],
   "source": [
    "# create the model\n",
    "soft_voting = VotingClassifier(estimators=[('rfc', rfc), ('sgd', sgd), ('svc', svc), ('lgr', lgr), ('dtc', dtc)], voting='soft')\n",
    "\n",
    "# create the pipeline\n",
    "pipeline  = Pipeline([\n",
    "    (\"scaler\", StandardScaler()),\n",
    "    (\"model\", soft_voting)\n",
    "])\n",
    "\n",
    "# fit the pipeline\n",
    "pipeline.fit(X_train, y_train)\n",
    "\n",
    "# print the results\n",
    "for classifier in (rfc, sgd, svc, lgr, dtc, soft_voting):\n",
    "    classifier.fit(X_train, y_train)\n",
    "    pred = classifier.predict(X_test)\n",
    "    print(classifier.__class__.__name__, \":\", accuracy_score(y_test, pred) * 100, \"%\")"
   ]
  },
  {
   "attachments": {},
   "cell_type": "markdown",
   "metadata": {},
   "source": [
    "#### AdaBoost Classifier"
   ]
  },
  {
   "cell_type": "code",
   "execution_count": 47,
   "metadata": {},
   "outputs": [],
   "source": [
    "# create the model\n",
    "ada = AdaBoostClassifier(RandomForestClassifier(max_depth=1), n_estimators=200, algorithm=\"SAMME.R\", learning_rate=0.5, random_state=42)\n",
    "\n",
    "# create the pipeline\n",
    "pipeline  = Pipeline([\n",
    "    (\"scaler\", StandardScaler()),\n",
    "    (\"model\", ada)\n",
    "])\n",
    "\n",
    "# fit and predict the pipeline\n",
    "pipeline.fit(X_train, y_train)\n",
    "pred_ada = pipeline.predict(X_test)\n",
    "\n",
    "# check the probability score of the model\n",
    "prob_ada = pipeline.predict_proba(X_test)[:, 1]"
   ]
  },
  {
   "attachments": {},
   "cell_type": "markdown",
   "metadata": {},
   "source": [
    "#### Bagging Classifier for Random Forest Classifier"
   ]
  },
  {
   "attachments": {},
   "cell_type": "markdown",
   "metadata": {},
   "source": [
    "##### Bagging Classifier"
   ]
  },
  {
   "cell_type": "code",
   "execution_count": 48,
   "metadata": {},
   "outputs": [],
   "source": [
    "# create the model\n",
    "bagging = BaggingClassifier(base_estimator=rfc, n_estimators=100, random_state=42, n_jobs=-1, bootstrap=True)\n",
    "\n",
    "# create the pipeline\n",
    "pipeline  = Pipeline([\n",
    "    (\"scaler\", StandardScaler()),\n",
    "    (\"model\", bagging)\n",
    "])\n",
    "\n",
    "# fit and predict the pipeline\n",
    "pipeline.fit(X_train, y_train)\n",
    "pred_bag = pipeline.predict(X_test)"
   ]
  },
  {
   "attachments": {},
   "cell_type": "markdown",
   "metadata": {},
   "source": [
    "##### Pasting Classifier"
   ]
  },
  {
   "cell_type": "code",
   "execution_count": 49,
   "metadata": {},
   "outputs": [
    {
     "name": "stdout",
     "output_type": "stream",
     "text": [
      "Score: 95.397520599807 %\n"
     ]
    }
   ],
   "source": [
    "# create the model\n",
    "pasting = BaggingClassifier(base_estimator=rfc, n_estimators=100, random_state=42, n_jobs=-1, bootstrap=False)\n",
    "\n",
    "# create the pipeline\n",
    "pipeline  = Pipeline([\n",
    "    (\"scaler\", StandardScaler()),\n",
    "    (\"model\", pasting)\n",
    "])\n",
    "\n",
    "# fit and predict the pipeline\n",
    "pipeline.fit(X_train, y_train)\n",
    "pred_pas = pipeline.predict(X_test)\n",
    "\n",
    "# check the model score\n",
    "score = pipeline.score(X_test, y_test)\n",
    "print(\"Score:\", score * 100, \"%\")"
   ]
  },
  {
   "attachments": {},
   "cell_type": "markdown",
   "metadata": {},
   "source": [
    "#### Polynomial Super Vector Machine"
   ]
  },
  {
   "cell_type": "code",
   "execution_count": 50,
   "metadata": {},
   "outputs": [],
   "source": [
    "# create the model\n",
    "poly_svm = make_pipeline(\n",
    "    PolynomialFeatures(degree=3, include_bias=False),\n",
    "    StandardScaler(), \n",
    "    LinearSVC(C=5, max_iter=10_000, loss=\"hinge\", random_state=42)\n",
    ")\n",
    "\n",
    "# fit and predict the model\n",
    "poly_svm.fit(X_train, y_train)\n",
    "pred_poly_svm = poly_svm.predict(X_test)"
   ]
  },
  {
   "attachments": {},
   "cell_type": "markdown",
   "metadata": {},
   "source": [
    "#### Polynomial Kernel"
   ]
  },
  {
   "cell_type": "code",
   "execution_count": 51,
   "metadata": {},
   "outputs": [],
   "source": [
    "# create the model\n",
    "poly_kernel_svm = make_pipeline(\n",
    "    StandardScaler(),\n",
    "    SVC(kernel=\"poly\", degree=1, coef0=20, C=5, probability=True, random_state=42)\n",
    ")\n",
    "\n",
    "# fit and predict the model\n",
    "poly_kernel_svm.fit(X_train, y_train)\n",
    "pred_poly_kernel_svm = poly_kernel_svm.predict(X_test)\n",
    "\n",
    "# check the probability score of the model\n",
    "prob_poly_kernel_svm = poly_kernel_svm.predict_proba(X_test)[:, 1]"
   ]
  },
  {
   "attachments": {},
   "cell_type": "markdown",
   "metadata": {},
   "source": [
    "#### Grid Search on Random Forest Classifier"
   ]
  },
  {
   "cell_type": "code",
   "execution_count": 52,
   "metadata": {},
   "outputs": [
    {
     "name": "stdout",
     "output_type": "stream",
     "text": [
      "Best params: {'max_depth': 15, 'n_estimators': 200}\n",
      "Best estimator: RandomForestClassifier(max_depth=15, n_estimators=200, random_state=42)\n",
      "Training score: 0.960616915053544\n",
      "Test score: 0.9539009724593571\n"
     ]
    }
   ],
   "source": [
    "# make a grid search for the model random forest\n",
    "param_grid = {\n",
    "    'n_estimators': [100, 200, 300, 400, 500],\n",
    "    'max_depth': [5, 10, 15],\n",
    "}\n",
    "\n",
    "# create gridsearch the model\n",
    "gs = GridSearchCV(estimator=RandomForestClassifier(random_state=42), param_grid=param_grid, cv=5, n_jobs=-1, scoring='accuracy', return_train_score=True)\n",
    "\n",
    "# fit the model\n",
    "gs.fit(X_train, y_train)\n",
    "\n",
    "# create the new random forest model with the best parameters\n",
    "rfc_tuned = RandomForestClassifier(n_estimators=gs.best_params_['n_estimators'], max_depth=gs.best_params_['max_depth'], random_state=42, n_jobs=-1)\n",
    "\n",
    "# create the pipeline\n",
    "pipeline = Pipeline([\n",
    "    ('scaler', StandardScaler()), \n",
    "    ('classifier', rfc_tuned)\n",
    "])\n",
    "\n",
    "# fit the pipeline\n",
    "pipeline.fit(X_train, y_train)\n",
    "\n",
    "# predict the values\n",
    "pred_rfc_tuned = pipeline.predict(X_test)\n",
    "prob_rfc_tuned = pipeline.predict_proba(X_test)[:, 1]\n",
    "\n",
    "# predict the probabilities (percentage)\n",
    "pred_rfc_tuned_proba = pipeline.predict_proba(X_test)\n",
    "\n",
    "# check the best parameters\n",
    "print(\"Best params:\", gs.best_params_)\n",
    "\n",
    "# check the best estimator\n",
    "print(\"Best estimator:\", gs.best_estimator_)\n",
    "\n",
    "# check the training score\n",
    "print(\"Training score:\", gs.score(X_train, y_train))\n",
    "\n",
    "# check the test score\n",
    "print(\"Test score:\", gs.score(X_test, y_test))"
   ]
  },
  {
   "attachments": {},
   "cell_type": "markdown",
   "metadata": {},
   "source": [
    "### Vergelijking van verschillende maatstaven voor optimaal classificatiemodel"
   ]
  },
  {
   "attachments": {},
   "cell_type": "markdown",
   "metadata": {},
   "source": [
    "#### ROC"
   ]
  },
  {
   "attachments": {},
   "cell_type": "markdown",
   "metadata": {},
   "source": [
    "##### ROC Curve"
   ]
  },
  {
   "cell_type": "code",
   "execution_count": 53,
   "metadata": {},
   "outputs": [
    {
     "data": {
      "image/png": "[encoded data removed]",
      "text/plain": [
       "<Figure size 1800x936 with 1 Axes>"
      ]
     },
     "metadata": {
      "needs_background": "light"
     },
     "output_type": "display_data"
    }
   ],
   "source": [
    "# make the roc curves for the models\n",
    "fpr_rfc, tpr_rfc, thresholds_rfc = roc_curve(y_test, prob_rfc)\n",
    "fpr_sgd, tpr_sgd, thresholds_sgd = roc_curve(y_test, prob_sgd)\n",
    "fpr_svc, tpr_svc, thresholds_svc = roc_curve(y_test, prob_svc)\n",
    "fpr_lgr, tpr_lgr, thresholds_lgr = roc_curve(y_test, prob_lgr)\n",
    "fpr_dtc, tpr_dtc, thresholds_dtc = roc_curve(y_test, prob_dtc)\n",
    "fpr_gbc, tpr_gbc, thresholds_gbc = roc_curve(y_test, prob_gbc)\n",
    "fpr_ada, tpr_ada, thresholds_ada = roc_curve(y_test, prob_ada)\n",
    "fpr_poly_kernel_svm, tpr_poly_kernel_svm, thresholds_poly_kernel_svm = roc_curve(y_test, prob_poly_kernel_svm)\n",
    "fpr_rfc_tuned, tpr_rfc_tuned, thresholds_rfc_tuned = roc_curve(y_test, prob_rfc_tuned)\n",
    "\n",
    "# set the figsize\n",
    "plt.figure(figsize=(25, 13))\n",
    "\n",
    "# plot the ROC curve\n",
    "plt.plot(fpr_rfc, tpr_rfc, label='Random Forest Classifier')\n",
    "plt.plot(fpr_sgd, tpr_sgd, label='Stochastic Gradient Descent')\n",
    "plt.plot(fpr_svc, tpr_svc, label='Support Vector Classifier')\n",
    "plt.plot(fpr_lgr, tpr_lgr, label='Logistic Regression')\n",
    "plt.plot(fpr_dtc, tpr_dtc, label='Decision Tree Classifier')\n",
    "plt.plot(fpr_gbc, tpr_gbc, label='Gradient Boosting Classifier')\n",
    "plt.plot(fpr_ada, tpr_ada, label='Ada Boost Classifier')\n",
    "plt.plot(fpr_poly_kernel_svm, tpr_poly_kernel_svm, label='Polynomial Kernel SVM')\n",
    "plt.plot(fpr_rfc_tuned, tpr_rfc_tuned, label='Tuned Random Forest Classifier')\n",
    "plt.plot([0, 1], [0, 1], 'k--')\n",
    "plt.xlabel('False Positive Rate')\n",
    "plt.ylabel('True Positive Rate')\n",
    "plt.title('ROC Curve')\n",
    "plt.legend()\n",
    "plt.show()"
   ]
  },
  {
   "attachments": {},
   "cell_type": "markdown",
   "metadata": {},
   "source": [
    "Zoals je kan zien liggen Random Forest Classifier en Gradient Boosting Classifier heel dicht bij elkaar (als beste 2). Via de grafiek is het niet zo heel duidelijk te zien welk van de twee nu effectief het beste is, dus we gaan daarvoor gebruik maken van de roc_auc_score. Deze score geeft een getal tussen 0 en 1 die de oppervlakte onder hun lijn weergeeft. Hoe groter het getal (dus dichter bij 1, hoe beter de performance)"
   ]
  },
  {
   "attachments": {},
   "cell_type": "markdown",
   "metadata": {},
   "source": [
    "##### ROC AUC Score"
   ]
  },
  {
   "cell_type": "code",
   "execution_count": 54,
   "metadata": {},
   "outputs": [
    {
     "name": "stdout",
     "output_type": "stream",
     "text": [
      "ROC AUC score for Gradient Boosting Classifier: 98.81072757970637 %\n",
      "ROC AUC score for Random Forest Classifier: 98.75359485178906 %\n",
      "ROC AUC score for Decision Tree Classifier: 97.5191992960632 %\n",
      "ROC AUC score for Ada Boost Classifier: 97.31917692694584 %\n",
      "ROC AUC score for Logistic Regression: 96.08967806766728 %\n",
      "ROC AUC score for Support Vector Classifier: 96.06060511914488 %\n",
      "ROC AUC score for Stochastic Gradient Descent: 96.05669052360649 %\n",
      "ROC AUC score for Polynomial Kernel SVM: 94.8120976881448 %\n",
      "ROC AUC score for Tuned Random Forest Classifier: 98.87582067562329 %\n"
     ]
    },
    {
     "data": {
      "text/html": [
       "<div>\n",
       "<style scoped>\n",
       "    .dataframe tbody tr th:only-of-type {\n",
       "        vertical-align: middle;\n",
       "    }\n",
       "\n",
       "    .dataframe tbody tr th {\n",
       "        vertical-align: top;\n",
       "    }\n",
       "\n",
       "    .dataframe thead th {\n",
       "        text-align: right;\n",
       "    }\n",
       "</style>\n",
       "<table border=\"1\" class=\"dataframe\">\n",
       "  <thead>\n",
       "    <tr style=\"text-align: right;\">\n",
       "      <th></th>\n",
       "      <th>Model</th>\n",
       "      <th>ROC AUC Score</th>\n",
       "    </tr>\n",
       "  </thead>\n",
       "  <tbody>\n",
       "    <tr>\n",
       "      <th>8</th>\n",
       "      <td>Tuned Random Forest Classifier</td>\n",
       "      <td>98.875821</td>\n",
       "    </tr>\n",
       "    <tr>\n",
       "      <th>0</th>\n",
       "      <td>Gradient Boosting Classifier</td>\n",
       "      <td>98.810728</td>\n",
       "    </tr>\n",
       "    <tr>\n",
       "      <th>1</th>\n",
       "      <td>Random Forest Classifier</td>\n",
       "      <td>98.753595</td>\n",
       "    </tr>\n",
       "    <tr>\n",
       "      <th>2</th>\n",
       "      <td>Decision Tree Classifier</td>\n",
       "      <td>97.519199</td>\n",
       "    </tr>\n",
       "    <tr>\n",
       "      <th>3</th>\n",
       "      <td>Ada Boost Classifier</td>\n",
       "      <td>97.319177</td>\n",
       "    </tr>\n",
       "    <tr>\n",
       "      <th>4</th>\n",
       "      <td>Logistic Regression</td>\n",
       "      <td>96.089678</td>\n",
       "    </tr>\n",
       "    <tr>\n",
       "      <th>5</th>\n",
       "      <td>Support Vector Classifier</td>\n",
       "      <td>96.060605</td>\n",
       "    </tr>\n",
       "    <tr>\n",
       "      <th>6</th>\n",
       "      <td>Stochastic Gradient Descent</td>\n",
       "      <td>96.056691</td>\n",
       "    </tr>\n",
       "    <tr>\n",
       "      <th>7</th>\n",
       "      <td>Polynomial Kernel SVM</td>\n",
       "      <td>94.812098</td>\n",
       "    </tr>\n",
       "  </tbody>\n",
       "</table>\n",
       "</div>"
      ],
      "text/plain": [
       "                            Model  ROC AUC Score\n",
       "8  Tuned Random Forest Classifier      98.875821\n",
       "0    Gradient Boosting Classifier      98.810728\n",
       "1        Random Forest Classifier      98.753595\n",
       "2        Decision Tree Classifier      97.519199\n",
       "3            Ada Boost Classifier      97.319177\n",
       "4             Logistic Regression      96.089678\n",
       "5       Support Vector Classifier      96.060605\n",
       "6     Stochastic Gradient Descent      96.056691\n",
       "7           Polynomial Kernel SVM      94.812098"
      ]
     },
     "execution_count": 54,
     "metadata": {},
     "output_type": "execute_result"
    }
   ],
   "source": [
    "# calculate the ROC AUC score for each model\n",
    "roc_auc_gbc = roc_auc_score(y_test, prob_gbc) * 100\n",
    "roc_auc_rfc = roc_auc_score(y_test, prob_rfc) * 100\n",
    "roc_auc_dtc = roc_auc_score(y_test, prob_dtc) * 100\n",
    "roc_auc_ada = roc_auc_score(y_test, prob_ada) * 100\n",
    "roc_auc_lgr = roc_auc_score(y_test, prob_lgr) * 100\n",
    "roc_auc_svc = roc_auc_score(y_test, prob_svc) * 100\n",
    "roc_auc_sgd = roc_auc_score(y_test, prob_sgd) * 100\n",
    "roc_auc_poly_kernel_svm = roc_auc_score(y_test, prob_poly_kernel_svm) * 100\n",
    "roc_auc_rfc_tuned = roc_auc_score(y_test, prob_rfc_tuned) * 100\n",
    "\n",
    "# print the ROC AUC score for each model\n",
    "print(\"ROC AUC score for Gradient Boosting Classifier:\", roc_auc_gbc, \"%\")\n",
    "print(\"ROC AUC score for Random Forest Classifier:\", roc_auc_rfc, \"%\")\n",
    "print(\"ROC AUC score for Decision Tree Classifier:\", roc_auc_dtc, \"%\")\n",
    "print(\"ROC AUC score for Ada Boost Classifier:\", roc_auc_ada, \"%\")\n",
    "print(\"ROC AUC score for Logistic Regression:\", roc_auc_lgr, \"%\")\n",
    "print(\"ROC AUC score for Support Vector Classifier:\", roc_auc_svc, \"%\")\n",
    "print(\"ROC AUC score for Stochastic Gradient Descent:\", roc_auc_sgd, \"%\")\n",
    "print(\"ROC AUC score for Polynomial Kernel SVM:\", roc_auc_poly_kernel_svm, \"%\")\n",
    "print(\"ROC AUC score for Tuned Random Forest Classifier:\", roc_auc_rfc_tuned, \"%\")\n",
    "\n",
    "# create a table for the ROC AUC score for each model without linenumbers or indexes\n",
    "roc_auc_score_table = pd.DataFrame({\n",
    "    \"Model\": [\"Gradient Boosting Classifier\", \"Random Forest Classifier\", \"Decision Tree Classifier\", \"Ada Boost Classifier\", \"Logistic Regression\", \"Support Vector Classifier\", \"Stochastic Gradient Descent\", \"Polynomial Kernel SVM\", \"Tuned Random Forest Classifier\"],\n",
    "    \"ROC AUC Score\": [roc_auc_gbc, roc_auc_rfc, roc_auc_dtc, roc_auc_ada, roc_auc_lgr, roc_auc_svc, roc_auc_sgd, roc_auc_poly_kernel_svm, roc_auc_rfc_tuned]\n",
    "})\n",
    "\n",
    "# sort the table by the ROC AUC score\n",
    "roc_auc_score_table.sort_values(by=\"ROC AUC Score\", ascending=False)"
   ]
  },
  {
   "attachments": {},
   "cell_type": "markdown",
   "metadata": {},
   "source": [
    "#### Accuracy Score"
   ]
  },
  {
   "cell_type": "code",
   "execution_count": 55,
   "metadata": {},
   "outputs": [
    {
     "name": "stdout",
     "output_type": "stream",
     "text": [
      "Accuracy score for Random Forest Classifier: 95.37525053819316 %\n",
      "Accuracy score for Stochastic Gradient Descent: 92.88842699131467 %\n",
      "Accuracy score for Linear Support Vector Classifier: 92.91069705292851 %\n",
      "Accuracy score for Support Vector Classifier: 94.89273253656002 %\n",
      "Accuracy score for Logistic Regression: 92.93296711454235 %\n",
      "Accuracy score for Decision Tree Classifier: 95.10800979882711 %\n",
      "Accuracy score for Gradient Boosting Classifier: 92.96266053002746 %\n",
      "Accuracy score for Ada Boost Classifier: 93.2002078539084 %\n",
      "Accuracy score for Bagging Classifier: 95.3900972459357 %\n",
      "Accuracy score for Pasting Classifier: 95.397520599807 %\n",
      "Accuracy score for Polynomial SVM: 95.13027986044095 %\n",
      "Accuracy score for Polynomial Kernel SVM: 92.89585034518596 %\n",
      "Accuracy score for Tuned Random Forest Classifier: 95.397520599807 %\n"
     ]
    },
    {
     "data": {
      "text/html": [
       "<div>\n",
       "<style scoped>\n",
       "    .dataframe tbody tr th:only-of-type {\n",
       "        vertical-align: middle;\n",
       "    }\n",
       "\n",
       "    .dataframe tbody tr th {\n",
       "        vertical-align: top;\n",
       "    }\n",
       "\n",
       "    .dataframe thead th {\n",
       "        text-align: right;\n",
       "    }\n",
       "</style>\n",
       "<table border=\"1\" class=\"dataframe\">\n",
       "  <thead>\n",
       "    <tr style=\"text-align: right;\">\n",
       "      <th></th>\n",
       "      <th>Model</th>\n",
       "      <th>Accuracy Score</th>\n",
       "    </tr>\n",
       "  </thead>\n",
       "  <tbody>\n",
       "    <tr>\n",
       "      <th>8</th>\n",
       "      <td>Tuned Random Forest Classifier</td>\n",
       "      <td>95.397521</td>\n",
       "    </tr>\n",
       "    <tr>\n",
       "      <th>1</th>\n",
       "      <td>Random Forest Classifier</td>\n",
       "      <td>95.375251</td>\n",
       "    </tr>\n",
       "    <tr>\n",
       "      <th>2</th>\n",
       "      <td>Decision Tree Classifier</td>\n",
       "      <td>95.108010</td>\n",
       "    </tr>\n",
       "    <tr>\n",
       "      <th>5</th>\n",
       "      <td>Support Vector Classifier</td>\n",
       "      <td>94.892733</td>\n",
       "    </tr>\n",
       "    <tr>\n",
       "      <th>3</th>\n",
       "      <td>Ada Boost Classifier</td>\n",
       "      <td>93.200208</td>\n",
       "    </tr>\n",
       "    <tr>\n",
       "      <th>0</th>\n",
       "      <td>Gradient Boosting Classifier</td>\n",
       "      <td>92.962661</td>\n",
       "    </tr>\n",
       "    <tr>\n",
       "      <th>4</th>\n",
       "      <td>Logistic Regression</td>\n",
       "      <td>92.932967</td>\n",
       "    </tr>\n",
       "    <tr>\n",
       "      <th>7</th>\n",
       "      <td>Polynomial Kernel SVM</td>\n",
       "      <td>92.895850</td>\n",
       "    </tr>\n",
       "    <tr>\n",
       "      <th>6</th>\n",
       "      <td>Stochastic Gradient Descent</td>\n",
       "      <td>92.888427</td>\n",
       "    </tr>\n",
       "  </tbody>\n",
       "</table>\n",
       "</div>"
      ],
      "text/plain": [
       "                            Model  Accuracy Score\n",
       "8  Tuned Random Forest Classifier       95.397521\n",
       "1        Random Forest Classifier       95.375251\n",
       "2        Decision Tree Classifier       95.108010\n",
       "5       Support Vector Classifier       94.892733\n",
       "3            Ada Boost Classifier       93.200208\n",
       "0    Gradient Boosting Classifier       92.962661\n",
       "4             Logistic Regression       92.932967\n",
       "7           Polynomial Kernel SVM       92.895850\n",
       "6     Stochastic Gradient Descent       92.888427"
      ]
     },
     "execution_count": 55,
     "metadata": {},
     "output_type": "execute_result"
    }
   ],
   "source": [
    "# calculate the accuracy score for each model\n",
    "acc_rfc = accuracy_score(y_test, pred_rfc) * 100\n",
    "acc_sgd = accuracy_score(y_test, pred_sgd) * 100\n",
    "acc_lsvc = accuracy_score(y_test, pred_lsvc) * 100\n",
    "acc_svc = accuracy_score(y_test, pred_svc) * 100\n",
    "acc_lgr = accuracy_score(y_test, pred_lgr) * 100\n",
    "acc_dtc = accuracy_score(y_test, pred_dtc) * 100\n",
    "acc_gbc = accuracy_score(y_test, pred_gbc) * 100\n",
    "acc_ada = accuracy_score(y_test, pred_ada) * 100\n",
    "acc_bag = accuracy_score(y_test, pred_bag) * 100\n",
    "acc_pas = accuracy_score(y_test, pred_pas) * 100\n",
    "acc_poly_svm = accuracy_score(y_test, pred_poly_svm) * 100\n",
    "acc_poly_kernel_svm = accuracy_score(y_test, pred_poly_kernel_svm) * 100\n",
    "acc_rfc_tuned = accuracy_score(y_test, pred_rfc_tuned) * 100\n",
    "\n",
    "# print the accuracy score for each model\n",
    "print(\"Accuracy score for Random Forest Classifier:\", acc_rfc, \"%\")\n",
    "print(\"Accuracy score for Stochastic Gradient Descent:\", acc_sgd, \"%\")\n",
    "print(\"Accuracy score for Linear Support Vector Classifier:\", acc_lsvc, \"%\")\n",
    "print(\"Accuracy score for Support Vector Classifier:\", acc_svc, \"%\")\n",
    "print(\"Accuracy score for Logistic Regression:\", acc_lgr, \"%\")\n",
    "print(\"Accuracy score for Decision Tree Classifier:\", acc_dtc, \"%\")\n",
    "print(\"Accuracy score for Gradient Boosting Classifier:\", acc_gbc, \"%\")\n",
    "print(\"Accuracy score for Ada Boost Classifier:\", acc_ada, \"%\")\n",
    "print(\"Accuracy score for Bagging Classifier:\", acc_bag, \"%\")\n",
    "print(\"Accuracy score for Pasting Classifier:\", acc_pas, \"%\")\n",
    "print(\"Accuracy score for Polynomial SVM:\", acc_poly_svm, \"%\")\n",
    "print(\"Accuracy score for Polynomial Kernel SVM:\", acc_poly_kernel_svm, \"%\")\n",
    "print(\"Accuracy score for Tuned Random Forest Classifier:\", acc_rfc_tuned, \"%\")\n",
    "\n",
    "# create a table of the accuracy score for each model\n",
    "acc_table = pd.DataFrame({\n",
    "    \"Model\": [\"Gradient Boosting Classifier\", \"Random Forest Classifier\", \"Decision Tree Classifier\", \"Ada Boost Classifier\", \"Logistic Regression\", \"Support Vector Classifier\", \"Stochastic Gradient Descent\", \"Polynomial Kernel SVM\", \"Tuned Random Forest Classifier\"],\n",
    "    \"Accuracy Score\": [acc_gbc, acc_rfc, acc_dtc, acc_ada, acc_lgr, acc_svc, acc_sgd, acc_poly_kernel_svm, acc_rfc_tuned]\n",
    "})\n",
    "\n",
    "# sort the table by the accuracy score\n",
    "acc_table.sort_values(by='Accuracy Score', ascending=False)"
   ]
  },
  {
   "attachments": {},
   "cell_type": "markdown",
   "metadata": {},
   "source": [
    "#### Cross Validation Score"
   ]
  },
  {
   "cell_type": "code",
   "execution_count": 56,
   "metadata": {},
   "outputs": [
    {
     "name": "stdout",
     "output_type": "stream",
     "text": [
      "Mean cross validation score for Gradient Boosting Classifier: 95.3527210465536 %\n",
      "Mean cross validation score for Random Forest Classifier: 95.59399196485563 %\n",
      "Mean cross validation score for Decision Tree Classifier: 95.28776322136882 %\n",
      "Mean cross validation score for Ada Boost Classifier: 93.60071594947512 %\n",
      "Mean cross validation score for Logistic Regression: 93.29819512846174 %\n",
      "Mean cross validation score for Support Vector Classifier: 92.85648125586961 %\n",
      "Mean cross validation score for Linear Support Vector Classifier: 93.27963546936039 %\n",
      "Mean cross validation score for Stochastic Gradient Descent: 93.25365293862183 %\n",
      "Mean cross validation score for Bagging Classifier: 95.59584763109811 %\n",
      "Mean cross validation score for Pasting Classifier: 95.56800850411395 %\n",
      "Mean cross validation score for Polynomial SVM: 95.23394053030928 %\n",
      "Mean cross validation score for Polynomial Kernel SVM: 93.2963403922224 %\n",
      "Mean cross validation score for Tuned Random Forest Classifier: 95.56429861830055 %\n"
     ]
    },
    {
     "data": {
      "text/html": [
       "<div>\n",
       "<style scoped>\n",
       "    .dataframe tbody tr th:only-of-type {\n",
       "        vertical-align: middle;\n",
       "    }\n",
       "\n",
       "    .dataframe tbody tr th {\n",
       "        vertical-align: top;\n",
       "    }\n",
       "\n",
       "    .dataframe thead th {\n",
       "        text-align: right;\n",
       "    }\n",
       "</style>\n",
       "<table border=\"1\" class=\"dataframe\">\n",
       "  <thead>\n",
       "    <tr style=\"text-align: right;\">\n",
       "      <th></th>\n",
       "      <th>Model</th>\n",
       "      <th>Mean Cross Validation Score</th>\n",
       "    </tr>\n",
       "  </thead>\n",
       "  <tbody>\n",
       "    <tr>\n",
       "      <th>8</th>\n",
       "      <td>Bagging Classifier</td>\n",
       "      <td>95.595848</td>\n",
       "    </tr>\n",
       "    <tr>\n",
       "      <th>1</th>\n",
       "      <td>Random Forest Classifier</td>\n",
       "      <td>95.593992</td>\n",
       "    </tr>\n",
       "    <tr>\n",
       "      <th>9</th>\n",
       "      <td>Pasting Classifier</td>\n",
       "      <td>95.568009</td>\n",
       "    </tr>\n",
       "    <tr>\n",
       "      <th>12</th>\n",
       "      <td>Tuned Random Forest Classifier</td>\n",
       "      <td>95.564299</td>\n",
       "    </tr>\n",
       "    <tr>\n",
       "      <th>0</th>\n",
       "      <td>Gradient Boosting Classifier</td>\n",
       "      <td>95.352721</td>\n",
       "    </tr>\n",
       "    <tr>\n",
       "      <th>2</th>\n",
       "      <td>Decision Tree Classifier</td>\n",
       "      <td>95.287763</td>\n",
       "    </tr>\n",
       "    <tr>\n",
       "      <th>11</th>\n",
       "      <td>Polynomial SVM</td>\n",
       "      <td>95.233941</td>\n",
       "    </tr>\n",
       "    <tr>\n",
       "      <th>3</th>\n",
       "      <td>Ada Boost Classifier</td>\n",
       "      <td>93.600716</td>\n",
       "    </tr>\n",
       "    <tr>\n",
       "      <th>4</th>\n",
       "      <td>Logistic Regression</td>\n",
       "      <td>93.298195</td>\n",
       "    </tr>\n",
       "    <tr>\n",
       "      <th>7</th>\n",
       "      <td>Polynomial Kernel SVM</td>\n",
       "      <td>93.296340</td>\n",
       "    </tr>\n",
       "    <tr>\n",
       "      <th>10</th>\n",
       "      <td>Linear Support Vector Classifier</td>\n",
       "      <td>93.279635</td>\n",
       "    </tr>\n",
       "    <tr>\n",
       "      <th>6</th>\n",
       "      <td>Stochastic Gradient Descent</td>\n",
       "      <td>93.253653</td>\n",
       "    </tr>\n",
       "    <tr>\n",
       "      <th>5</th>\n",
       "      <td>Support Vector Classifier</td>\n",
       "      <td>92.856481</td>\n",
       "    </tr>\n",
       "  </tbody>\n",
       "</table>\n",
       "</div>"
      ],
      "text/plain": [
       "                               Model  Mean Cross Validation Score\n",
       "8                 Bagging Classifier                    95.595848\n",
       "1           Random Forest Classifier                    95.593992\n",
       "9                 Pasting Classifier                    95.568009\n",
       "12    Tuned Random Forest Classifier                    95.564299\n",
       "0       Gradient Boosting Classifier                    95.352721\n",
       "2           Decision Tree Classifier                    95.287763\n",
       "11                    Polynomial SVM                    95.233941\n",
       "3               Ada Boost Classifier                    93.600716\n",
       "4                Logistic Regression                    93.298195\n",
       "7              Polynomial Kernel SVM                    93.296340\n",
       "10  Linear Support Vector Classifier                    93.279635\n",
       "6        Stochastic Gradient Descent                    93.253653\n",
       "5          Support Vector Classifier                    92.856481"
      ]
     },
     "execution_count": 56,
     "metadata": {},
     "output_type": "execute_result"
    }
   ],
   "source": [
    "# calculate the mean cross validation score for each model\n",
    "cv_gbc = cross_val_score(gbc, X_train, y_train, cv=3).mean() * 100\n",
    "cv_rfc = cross_val_score(rfc, X_train, y_train, cv=3).mean() * 100\n",
    "cv_dtc = cross_val_score(dtc, X_train, y_train, cv=3).mean() * 100\n",
    "cv_ada = cross_val_score(ada, X_train, y_train, cv=3).mean() * 100\n",
    "cv_lgr = cross_val_score(lgr, X_train, y_train, cv=3).mean() * 100\n",
    "cv_svc = cross_val_score(svc, X_train, y_train, cv=3).mean() * 100\n",
    "cv_lsvc = cross_val_score(lsvc, X_train, y_train, cv=3).mean() * 100\n",
    "cv_sgd = cross_val_score(sgd, X_train, y_train, cv=3).mean() * 100\n",
    "cv_bag = cross_val_score(bagging, X_train, y_train, cv=3).mean() * 100\n",
    "cv_pas = cross_val_score(pasting, X_train, y_train, cv=3).mean() * 100\n",
    "cv_poly_svm = cross_val_score(poly_svm, X_train, y_train, cv=3).mean() * 100\n",
    "cv_poly_kernel_svm = cross_val_score(poly_kernel_svm, X_train, y_train, cv=3).mean() * 100\n",
    "cv_rfc_tuned = cross_val_score(rfc_tuned, X_train, y_train, cv=3).mean() * 100\n",
    "\n",
    "# print the mean cross validation score for each model\n",
    "print(\"Mean cross validation score for Gradient Boosting Classifier:\", cv_gbc, \"%\")\n",
    "print(\"Mean cross validation score for Random Forest Classifier:\", cv_rfc, \"%\")\n",
    "print(\"Mean cross validation score for Decision Tree Classifier:\", cv_dtc, \"%\")\n",
    "print(\"Mean cross validation score for Ada Boost Classifier:\", cv_ada, \"%\")\n",
    "print(\"Mean cross validation score for Logistic Regression:\", cv_lgr, \"%\")\n",
    "print(\"Mean cross validation score for Support Vector Classifier:\", cv_svc, \"%\")\n",
    "print(\"Mean cross validation score for Linear Support Vector Classifier:\", cv_lsvc, \"%\")\n",
    "print(\"Mean cross validation score for Stochastic Gradient Descent:\", cv_sgd, \"%\")\n",
    "print(\"Mean cross validation score for Bagging Classifier:\", cv_bag, \"%\")\n",
    "print(\"Mean cross validation score for Pasting Classifier:\", cv_pas, \"%\")\n",
    "print(\"Mean cross validation score for Polynomial SVM:\", cv_poly_svm, \"%\")\n",
    "print(\"Mean cross validation score for Polynomial Kernel SVM:\", cv_poly_kernel_svm, \"%\")\n",
    "print(\"Mean cross validation score for Tuned Random Forest Classifier:\", cv_rfc_tuned, \"%\")\n",
    "\n",
    "# create a table of the mean cross validation score for each model\n",
    "cv_score_table = pd.DataFrame({\n",
    "    \"Model\": [\"Gradient Boosting Classifier\", \"Random Forest Classifier\", \"Decision Tree Classifier\", \"Ada Boost Classifier\", \"Logistic Regression\", \"Support Vector Classifier\", \"Stochastic Gradient Descent\", \"Polynomial Kernel SVM\", \"Bagging Classifier\", \"Pasting Classifier\", \"Linear Support Vector Classifier\", \"Polynomial SVM\", \"Tuned Random Forest Classifier\"],\n",
    "    \"Mean Cross Validation Score\": [cv_gbc, cv_rfc, cv_dtc, cv_ada, cv_lgr, cv_svc, cv_sgd, cv_poly_kernel_svm, cv_bag, cv_pas, cv_lsvc, cv_poly_svm, cv_rfc_tuned]\n",
    "})\n",
    "\n",
    "# sort the table by the mean cross validation score\n",
    "cv_score_table.sort_values(by='Mean Cross Validation Score', ascending=False)"
   ]
  },
  {
   "attachments": {},
   "cell_type": "markdown",
   "metadata": {},
   "source": [
    "#### Precision Score"
   ]
  },
  {
   "cell_type": "code",
   "execution_count": 57,
   "metadata": {},
   "outputs": [
    {
     "name": "stdout",
     "output_type": "stream",
     "text": [
      "Precision score for Random Forest Classifier: 87.65972982840454 %\n",
      "Precision score for Stochastic Gradient Descent: 76.53562653562653 %\n",
      "Precision score for Linear Support Vector Classifier: 76.45979822684194 %\n",
      "Precision score for Support Vector Classifier: 85.96112311015118 %\n",
      "Precision score for Logistic Regression: 76.52998776009792 %\n",
      "Precision score for Decision Tree Classifier: 86.60166124954858 %\n",
      "Precision score for Gradient Boosting Classifier: 76.83755404570722 %\n",
      "Precision score for Ada Boost Classifier: 77.50155376009944 %\n",
      "Precision score for Bagging Classifier: 87.69623950346842 %\n",
      "Precision score for Pasting Classifier: 85.79348579348579 %\n",
      "Precision score for Polynomial SVM: 87.6763177431329 %\n",
      "Precision score for Polynomial Kernel SVM: 75.2851711026616 %\n",
      "Precision score for Tuned Random Forest Classifier: 87.81112737920938 %\n"
     ]
    },
    {
     "data": {
      "text/html": [
       "<div>\n",
       "<style scoped>\n",
       "    .dataframe tbody tr th:only-of-type {\n",
       "        vertical-align: middle;\n",
       "    }\n",
       "\n",
       "    .dataframe tbody tr th {\n",
       "        vertical-align: top;\n",
       "    }\n",
       "\n",
       "    .dataframe thead th {\n",
       "        text-align: right;\n",
       "    }\n",
       "</style>\n",
       "<table border=\"1\" class=\"dataframe\">\n",
       "  <thead>\n",
       "    <tr style=\"text-align: right;\">\n",
       "      <th></th>\n",
       "      <th>Model</th>\n",
       "      <th>Precision Score</th>\n",
       "    </tr>\n",
       "  </thead>\n",
       "  <tbody>\n",
       "    <tr>\n",
       "      <th>12</th>\n",
       "      <td>Tuned Random Forest Classifier</td>\n",
       "      <td>87.811127</td>\n",
       "    </tr>\n",
       "    <tr>\n",
       "      <th>8</th>\n",
       "      <td>Bagging Classifier</td>\n",
       "      <td>87.696240</td>\n",
       "    </tr>\n",
       "    <tr>\n",
       "      <th>10</th>\n",
       "      <td>Polynomial SVM</td>\n",
       "      <td>87.676318</td>\n",
       "    </tr>\n",
       "    <tr>\n",
       "      <th>1</th>\n",
       "      <td>Random Forest Classifier</td>\n",
       "      <td>87.659730</td>\n",
       "    </tr>\n",
       "    <tr>\n",
       "      <th>2</th>\n",
       "      <td>Decision Tree Classifier</td>\n",
       "      <td>86.601661</td>\n",
       "    </tr>\n",
       "    <tr>\n",
       "      <th>5</th>\n",
       "      <td>Support Vector Classifier</td>\n",
       "      <td>85.961123</td>\n",
       "    </tr>\n",
       "    <tr>\n",
       "      <th>9</th>\n",
       "      <td>Pasting Classifier</td>\n",
       "      <td>85.793486</td>\n",
       "    </tr>\n",
       "    <tr>\n",
       "      <th>3</th>\n",
       "      <td>Ada Boost Classifier</td>\n",
       "      <td>77.501554</td>\n",
       "    </tr>\n",
       "    <tr>\n",
       "      <th>0</th>\n",
       "      <td>Gradient Boosting Classifier</td>\n",
       "      <td>76.837554</td>\n",
       "    </tr>\n",
       "    <tr>\n",
       "      <th>6</th>\n",
       "      <td>Stochastic Gradient Descent</td>\n",
       "      <td>76.535627</td>\n",
       "    </tr>\n",
       "    <tr>\n",
       "      <th>4</th>\n",
       "      <td>Logistic Regression</td>\n",
       "      <td>76.529988</td>\n",
       "    </tr>\n",
       "    <tr>\n",
       "      <th>11</th>\n",
       "      <td>Linear Support Vector Classifier</td>\n",
       "      <td>76.459798</td>\n",
       "    </tr>\n",
       "    <tr>\n",
       "      <th>7</th>\n",
       "      <td>Polynomial Kernel SVM</td>\n",
       "      <td>75.285171</td>\n",
       "    </tr>\n",
       "  </tbody>\n",
       "</table>\n",
       "</div>"
      ],
      "text/plain": [
       "                               Model  Precision Score\n",
       "12    Tuned Random Forest Classifier        87.811127\n",
       "8                 Bagging Classifier        87.696240\n",
       "10                    Polynomial SVM        87.676318\n",
       "1           Random Forest Classifier        87.659730\n",
       "2           Decision Tree Classifier        86.601661\n",
       "5          Support Vector Classifier        85.961123\n",
       "9                 Pasting Classifier        85.793486\n",
       "3               Ada Boost Classifier        77.501554\n",
       "0       Gradient Boosting Classifier        76.837554\n",
       "6        Stochastic Gradient Descent        76.535627\n",
       "4                Logistic Regression        76.529988\n",
       "11  Linear Support Vector Classifier        76.459798\n",
       "7              Polynomial Kernel SVM        75.285171"
      ]
     },
     "execution_count": 57,
     "metadata": {},
     "output_type": "execute_result"
    }
   ],
   "source": [
    "# calculate the precision score for each model\n",
    "pre_rfc = precision_score(y_test, pred_rfc) * 100\n",
    "pre_sgd = precision_score(y_test, pred_sgd) * 100\n",
    "pre_lsvc = precision_score(y_test, pred_lsvc) * 100\n",
    "pre_svc = precision_score(y_test, pred_svc) * 100\n",
    "pre_lgr = precision_score(y_test, pred_lgr) * 100\n",
    "pre_dtc = precision_score(y_test, pred_dtc) * 100\n",
    "pre_gbc = precision_score(y_test, pred_gbc) * 100\n",
    "pre_ada = precision_score(y_test, pred_ada) * 100\n",
    "pre_bag = precision_score(y_test, pred_bag) * 100\n",
    "pre_pas = precision_score(y_test, pred_pas) * 100\n",
    "pre_poly_svm = precision_score(y_test, pred_poly_svm) * 100\n",
    "pre_poly_kernel_svm = precision_score(y_test, pred_poly_kernel_svm) * 100\n",
    "pre_rfc_tuned = precision_score(y_test, pred_rfc_tuned) * 100\n",
    "\n",
    "# print the precision score for each model\n",
    "print(\"Precision score for Random Forest Classifier:\", pre_rfc, \"%\")\n",
    "print(\"Precision score for Stochastic Gradient Descent:\", pre_sgd, \"%\")\n",
    "print(\"Precision score for Linear Support Vector Classifier:\", pre_lsvc, \"%\")\n",
    "print(\"Precision score for Support Vector Classifier:\", pre_svc, \"%\")\n",
    "print(\"Precision score for Logistic Regression:\", pre_lgr, \"%\")\n",
    "print(\"Precision score for Decision Tree Classifier:\", pre_dtc, \"%\")\n",
    "print(\"Precision score for Gradient Boosting Classifier:\", pre_gbc, \"%\")\n",
    "print(\"Precision score for Ada Boost Classifier:\", pre_ada, \"%\")\n",
    "print(\"Precision score for Bagging Classifier:\", pre_bag, \"%\")\n",
    "print(\"Precision score for Pasting Classifier:\", pre_pas, \"%\")\n",
    "print(\"Precision score for Polynomial SVM:\", pre_poly_svm, \"%\")\n",
    "print(\"Precision score for Polynomial Kernel SVM:\", pre_poly_kernel_svm, \"%\")\n",
    "print(\"Precision score for Tuned Random Forest Classifier:\", pre_rfc_tuned, \"%\")\n",
    "\n",
    "# create a table of the precision score for each model\n",
    "pre_table = pd.DataFrame({\n",
    "    \"Model\": [\"Gradient Boosting Classifier\", \"Random Forest Classifier\", \"Decision Tree Classifier\", \"Ada Boost Classifier\", \"Logistic Regression\", \"Support Vector Classifier\", \"Stochastic Gradient Descent\", \"Polynomial Kernel SVM\", \"Bagging Classifier\", \"Pasting Classifier\", \"Polynomial SVM\", \"Linear Support Vector Classifier\", \"Tuned Random Forest Classifier\"],\n",
    "    \"Precision Score\": [pre_gbc, pre_rfc, pre_dtc, pre_ada, pre_lgr, pre_svc, pre_sgd, pre_poly_kernel_svm, pre_bag, pre_pas, pre_poly_svm, pre_lsvc, pre_rfc_tuned]\n",
    "})\n",
    "\n",
    "# sort the table by the precision score\n",
    "pre_table.sort_values(by='Precision Score', ascending=False)"
   ]
  },
  {
   "attachments": {},
   "cell_type": "markdown",
   "metadata": {},
   "source": [
    "#### Recall Score"
   ]
  },
  {
   "cell_type": "code",
   "execution_count": 58,
   "metadata": {},
   "outputs": [
    {
     "name": "stdout",
     "output_type": "stream",
     "text": [
      "Recall score for Random Forest Classifier: 89.38942665673865 %\n",
      "Recall score for Stochastic Gradient Descent: 92.77736411020105 %\n",
      "Recall score for Linear Support Vector Classifier: 93.11243484735667 %\n",
      "Recall score for Support Vector Classifier: 88.90543559195831 %\n",
      "Recall score for Logistic Regression: 93.11243484735667 %\n",
      "Recall score for Decision Tree Classifier: 89.2777364110201 %\n",
      "Recall score for Gradient Boosting Classifier: 92.62844378257633 %\n",
      "Recall score for Ada Boost Classifier: 92.85182427401341 %\n",
      "Recall score for Bagging Classifier: 89.42665673864482 %\n",
      "Recall score for Pasting Classifier: 92.18168279970216 %\n",
      "Recall score for Polynomial SVM: 87.93745346239761 %\n",
      "Recall score for Polynomial Kernel SVM: 95.83023082650783 %\n",
      "Recall score for Tuned Random Forest Classifier: 89.31496649292629 %\n"
     ]
    },
    {
     "data": {
      "text/html": [
       "<div>\n",
       "<style scoped>\n",
       "    .dataframe tbody tr th:only-of-type {\n",
       "        vertical-align: middle;\n",
       "    }\n",
       "\n",
       "    .dataframe tbody tr th {\n",
       "        vertical-align: top;\n",
       "    }\n",
       "\n",
       "    .dataframe thead th {\n",
       "        text-align: right;\n",
       "    }\n",
       "</style>\n",
       "<table border=\"1\" class=\"dataframe\">\n",
       "  <thead>\n",
       "    <tr style=\"text-align: right;\">\n",
       "      <th></th>\n",
       "      <th>Model</th>\n",
       "      <th>Recall Score</th>\n",
       "    </tr>\n",
       "  </thead>\n",
       "  <tbody>\n",
       "    <tr>\n",
       "      <th>7</th>\n",
       "      <td>Polynomial Kernel SVM</td>\n",
       "      <td>95.830231</td>\n",
       "    </tr>\n",
       "    <tr>\n",
       "      <th>4</th>\n",
       "      <td>Logistic Regression</td>\n",
       "      <td>93.112435</td>\n",
       "    </tr>\n",
       "    <tr>\n",
       "      <th>3</th>\n",
       "      <td>Ada Boost Classifier</td>\n",
       "      <td>92.851824</td>\n",
       "    </tr>\n",
       "    <tr>\n",
       "      <th>6</th>\n",
       "      <td>Stochastic Gradient Descent</td>\n",
       "      <td>92.777364</td>\n",
       "    </tr>\n",
       "    <tr>\n",
       "      <th>0</th>\n",
       "      <td>Gradient Boosting Classifier</td>\n",
       "      <td>92.628444</td>\n",
       "    </tr>\n",
       "    <tr>\n",
       "      <th>1</th>\n",
       "      <td>Random Forest Classifier</td>\n",
       "      <td>89.389427</td>\n",
       "    </tr>\n",
       "    <tr>\n",
       "      <th>8</th>\n",
       "      <td>Tuned Random Forest Classifier</td>\n",
       "      <td>89.314966</td>\n",
       "    </tr>\n",
       "    <tr>\n",
       "      <th>2</th>\n",
       "      <td>Decision Tree Classifier</td>\n",
       "      <td>89.277736</td>\n",
       "    </tr>\n",
       "    <tr>\n",
       "      <th>5</th>\n",
       "      <td>Support Vector Classifier</td>\n",
       "      <td>88.905436</td>\n",
       "    </tr>\n",
       "  </tbody>\n",
       "</table>\n",
       "</div>"
      ],
      "text/plain": [
       "                            Model  Recall Score\n",
       "7           Polynomial Kernel SVM     95.830231\n",
       "4             Logistic Regression     93.112435\n",
       "3            Ada Boost Classifier     92.851824\n",
       "6     Stochastic Gradient Descent     92.777364\n",
       "0    Gradient Boosting Classifier     92.628444\n",
       "1        Random Forest Classifier     89.389427\n",
       "8  Tuned Random Forest Classifier     89.314966\n",
       "2        Decision Tree Classifier     89.277736\n",
       "5       Support Vector Classifier     88.905436"
      ]
     },
     "execution_count": 58,
     "metadata": {},
     "output_type": "execute_result"
    }
   ],
   "source": [
    "# calculate the recall score for each model\n",
    "rec_rfc = recall_score(y_test, pred_rfc) * 100\n",
    "rec_sgd = recall_score(y_test, pred_sgd) * 100\n",
    "rec_lsvc = recall_score(y_test, pred_lsvc) * 100\n",
    "rec_svc = recall_score(y_test, pred_svc) * 100\n",
    "rec_lgr = recall_score(y_test, pred_lgr) * 100\n",
    "rec_dtc = recall_score(y_test, pred_dtc) * 100\n",
    "rec_gbc = recall_score(y_test, pred_gbc) * 100\n",
    "rec_ada = recall_score(y_test, pred_ada) * 100\n",
    "rec_bag = recall_score(y_test, pred_bag) * 100\n",
    "rec_pas = recall_score(y_test, pred_pas) * 100\n",
    "rec_poly_svm = recall_score(y_test, pred_poly_svm) * 100\n",
    "rec_poly_kernel_svm = recall_score(y_test, pred_poly_kernel_svm) * 100\n",
    "rec_rfc_tuned = recall_score(y_test, pred_rfc_tuned) * 100\n",
    "\n",
    "# print the recall score for each model\n",
    "print(\"Recall score for Random Forest Classifier:\", rec_rfc, \"%\")\n",
    "print(\"Recall score for Stochastic Gradient Descent:\", rec_sgd, \"%\")\n",
    "print(\"Recall score for Linear Support Vector Classifier:\", rec_lsvc, \"%\")\n",
    "print(\"Recall score for Support Vector Classifier:\", rec_svc, \"%\")\n",
    "print(\"Recall score for Logistic Regression:\", rec_lgr, \"%\")\n",
    "print(\"Recall score for Decision Tree Classifier:\", rec_dtc, \"%\")\n",
    "print(\"Recall score for Gradient Boosting Classifier:\", rec_gbc, \"%\")\n",
    "print(\"Recall score for Ada Boost Classifier:\", rec_ada, \"%\")\n",
    "print(\"Recall score for Bagging Classifier:\", rec_bag, \"%\")\n",
    "print(\"Recall score for Pasting Classifier:\", rec_pas, \"%\")\n",
    "print(\"Recall score for Polynomial SVM:\", rec_poly_svm, \"%\")\n",
    "print(\"Recall score for Polynomial Kernel SVM:\", rec_poly_kernel_svm, \"%\")\n",
    "print(\"Recall score for Tuned Random Forest Classifier:\", rec_rfc_tuned, \"%\")\n",
    "\n",
    "# create a table of the recall score for each model\n",
    "rec_table = pd.DataFrame({\n",
    "    \"Model\": [\"Gradient Boosting Classifier\", \"Random Forest Classifier\", \"Decision Tree Classifier\", \"Ada Boost Classifier\", \"Logistic Regression\", \"Support Vector Classifier\", \"Stochastic Gradient Descent\", \"Polynomial Kernel SVM\", \"Tuned Random Forest Classifier\"],\n",
    "    \"Recall Score\": [rec_gbc, rec_rfc, rec_dtc, rec_ada, rec_lgr, rec_svc, rec_sgd, rec_poly_kernel_svm, rec_rfc_tuned]\n",
    "})\n",
    "\n",
    "# sort the table by the recall score\n",
    "rec_table.sort_values(by='Recall Score', ascending=False)"
   ]
  },
  {
   "attachments": {},
   "cell_type": "markdown",
   "metadata": {},
   "source": [
    "#### F1 Score"
   ]
  },
  {
   "cell_type": "code",
   "execution_count": 59,
   "metadata": {},
   "outputs": [
    {
     "name": "stdout",
     "output_type": "stream",
     "text": [
      "F1 score for Random Forest Classifier: 88.51612903225808 %\n",
      "F1 score for Stochastic Gradient Descent: 83.87748232918209 %\n",
      "F1 score for Linear Support Vector Classifier: 83.96844049017962 %\n",
      "F1 score for Support Vector Classifier: 87.40849194729137 %\n",
      "F1 score for Logistic Regression: 84.01074907625126 %\n",
      "F1 score for Decision Tree Classifier: 87.91934005499542 %\n",
      "F1 score for Gradient Boosting Classifier: 83.99729912221471 %\n",
      "F1 score for Ada Boost Classifier: 84.48509485094851 %\n",
      "F1 score for Bagging Classifier: 88.55299539170508 %\n",
      "F1 score for Pasting Classifier: 88.87293610911702 %\n",
      "F1 score for Polynomial SVM: 87.80669144981412 %\n",
      "F1 score for Polynomial Kernel SVM: 84.32432432432434 %\n",
      "F1 score for Tuned Random Forest Classifier: 88.55666297526764 %\n"
     ]
    },
    {
     "data": {
      "text/html": [
       "<div>\n",
       "<style scoped>\n",
       "    .dataframe tbody tr th:only-of-type {\n",
       "        vertical-align: middle;\n",
       "    }\n",
       "\n",
       "    .dataframe tbody tr th {\n",
       "        vertical-align: top;\n",
       "    }\n",
       "\n",
       "    .dataframe thead th {\n",
       "        text-align: right;\n",
       "    }\n",
       "</style>\n",
       "<table border=\"1\" class=\"dataframe\">\n",
       "  <thead>\n",
       "    <tr style=\"text-align: right;\">\n",
       "      <th></th>\n",
       "      <th>Model</th>\n",
       "      <th>F1 Score</th>\n",
       "    </tr>\n",
       "  </thead>\n",
       "  <tbody>\n",
       "    <tr>\n",
       "      <th>8</th>\n",
       "      <td>Tuned Random Forest Classifier</td>\n",
       "      <td>88.556663</td>\n",
       "    </tr>\n",
       "    <tr>\n",
       "      <th>1</th>\n",
       "      <td>Random Forest Classifier</td>\n",
       "      <td>88.516129</td>\n",
       "    </tr>\n",
       "    <tr>\n",
       "      <th>2</th>\n",
       "      <td>Decision Tree Classifier</td>\n",
       "      <td>87.919340</td>\n",
       "    </tr>\n",
       "    <tr>\n",
       "      <th>5</th>\n",
       "      <td>Support Vector Classifier</td>\n",
       "      <td>87.408492</td>\n",
       "    </tr>\n",
       "    <tr>\n",
       "      <th>3</th>\n",
       "      <td>Ada Boost Classifier</td>\n",
       "      <td>84.485095</td>\n",
       "    </tr>\n",
       "    <tr>\n",
       "      <th>7</th>\n",
       "      <td>Polynomial Kernel SVM</td>\n",
       "      <td>84.324324</td>\n",
       "    </tr>\n",
       "    <tr>\n",
       "      <th>4</th>\n",
       "      <td>Logistic Regression</td>\n",
       "      <td>84.010749</td>\n",
       "    </tr>\n",
       "    <tr>\n",
       "      <th>0</th>\n",
       "      <td>Gradient Boosting Classifier</td>\n",
       "      <td>83.997299</td>\n",
       "    </tr>\n",
       "    <tr>\n",
       "      <th>6</th>\n",
       "      <td>Stochastic Gradient Descent</td>\n",
       "      <td>83.877482</td>\n",
       "    </tr>\n",
       "  </tbody>\n",
       "</table>\n",
       "</div>"
      ],
      "text/plain": [
       "                            Model   F1 Score\n",
       "8  Tuned Random Forest Classifier  88.556663\n",
       "1        Random Forest Classifier  88.516129\n",
       "2        Decision Tree Classifier  87.919340\n",
       "5       Support Vector Classifier  87.408492\n",
       "3            Ada Boost Classifier  84.485095\n",
       "7           Polynomial Kernel SVM  84.324324\n",
       "4             Logistic Regression  84.010749\n",
       "0    Gradient Boosting Classifier  83.997299\n",
       "6     Stochastic Gradient Descent  83.877482"
      ]
     },
     "execution_count": 59,
     "metadata": {},
     "output_type": "execute_result"
    }
   ],
   "source": [
    "# calculate the F1 score for each model\n",
    "f1_rfc = f1_score(y_test, pred_rfc) * 100\n",
    "f1_sgd = f1_score(y_test, pred_sgd) * 100\n",
    "f1_lsvc = f1_score(y_test, pred_lsvc) * 100\n",
    "f1_svc = f1_score(y_test, pred_svc) * 100\n",
    "f1_lgr = f1_score(y_test, pred_lgr) * 100\n",
    "f1_dtc = f1_score(y_test, pred_dtc) * 100\n",
    "f1_gbc = f1_score(y_test, pred_gbc) * 100\n",
    "f1_ada = f1_score(y_test, pred_ada) * 100\n",
    "f1_bag = f1_score(y_test, pred_bag) * 100\n",
    "f1_pas = f1_score(y_test, pred_pas) * 100\n",
    "f1_poly_svm = f1_score(y_test, pred_poly_svm) * 100\n",
    "f1_poly_kernel_svm = f1_score(y_test, pred_poly_kernel_svm) * 100\n",
    "f1_rfc_tuned = f1_score(y_test, pred_rfc_tuned) * 100\n",
    "\n",
    "# print the F1 score for each model\n",
    "print(\"F1 score for Random Forest Classifier:\", f1_rfc, \"%\")\n",
    "print(\"F1 score for Stochastic Gradient Descent:\", f1_sgd, \"%\")\n",
    "print(\"F1 score for Linear Support Vector Classifier:\", f1_lsvc, \"%\")\n",
    "print(\"F1 score for Support Vector Classifier:\", f1_svc, \"%\")\n",
    "print(\"F1 score for Logistic Regression:\", f1_lgr, \"%\")\n",
    "print(\"F1 score for Decision Tree Classifier:\", f1_dtc, \"%\")\n",
    "print(\"F1 score for Gradient Boosting Classifier:\", f1_gbc, \"%\")\n",
    "print(\"F1 score for Ada Boost Classifier:\", f1_ada, \"%\")\n",
    "print(\"F1 score for Bagging Classifier:\", f1_bag, \"%\")\n",
    "print(\"F1 score for Pasting Classifier:\", f1_pas, \"%\")\n",
    "print(\"F1 score for Polynomial SVM:\", f1_poly_svm, \"%\")\n",
    "print(\"F1 score for Polynomial Kernel SVM:\", f1_poly_kernel_svm, \"%\")\n",
    "print(\"F1 score for Tuned Random Forest Classifier:\", f1_rfc_tuned, \"%\")\n",
    "\n",
    "# create a table of the F1 score for each model\n",
    "f1_table = pd.DataFrame({\n",
    "    \"Model\": [\"Gradient Boosting Classifier\", \"Random Forest Classifier\", \"Decision Tree Classifier\", \"Ada Boost Classifier\", \"Logistic Regression\", \"Support Vector Classifier\", \"Stochastic Gradient Descent\", \"Polynomial Kernel SVM\", \"Tuned Random Forest Classifier\"],\n",
    "    \"F1 Score\": [f1_gbc, f1_rfc, f1_dtc, f1_ada, f1_lgr, f1_svc, f1_sgd, f1_poly_kernel_svm, f1_rfc_tuned]\n",
    "})\n",
    "\n",
    "# sort the table by the F1 score\n",
    "f1_table.sort_values(by='F1 Score', ascending=False)"
   ]
  },
  {
   "attachments": {},
   "cell_type": "markdown",
   "metadata": {},
   "source": [
    "#### R2 Score"
   ]
  },
  {
   "cell_type": "code",
   "execution_count": 60,
   "metadata": {},
   "outputs": [
    {
     "name": "stdout",
     "output_type": "stream",
     "text": [
      "R2 score for Random Forest Classifier: 71.02911747963564 %\n",
      "R2 score for Stochastic Gradient Descent: 55.45087406980891 %\n",
      "R2 score for Linear Support Vector Classifier: 55.590380727210345 %\n",
      "R2 score for Support Vector Classifier: 68.00647323593792 %\n",
      "R2 score for Logistic Regression: 55.72988738461178 %\n",
      "R2 score for Decision Tree Classifier: 69.35503759081844 %\n",
      "R2 score for Gradient Boosting Classifier: 55.91589626114701 %\n",
      "R2 score for Ada Boost Classifier: 57.40396727342898 %\n",
      "R2 score for Bagging Classifier: 71.12212191790327 %\n",
      "R2 score for Pasting Classifier: 71.16862413703709 %\n",
      "R2 score for Polynomial SVM: 69.49454424821988 %\n",
      "R2 score for Polynomial Kernel SVM: 55.49737628894271 %\n",
      "R2 score for Tuned Random Forest Classifier: 71.16862413703709 %\n"
     ]
    },
    {
     "data": {
      "text/html": [
       "<div>\n",
       "<style scoped>\n",
       "    .dataframe tbody tr th:only-of-type {\n",
       "        vertical-align: middle;\n",
       "    }\n",
       "\n",
       "    .dataframe tbody tr th {\n",
       "        vertical-align: top;\n",
       "    }\n",
       "\n",
       "    .dataframe thead th {\n",
       "        text-align: right;\n",
       "    }\n",
       "</style>\n",
       "<table border=\"1\" class=\"dataframe\">\n",
       "  <thead>\n",
       "    <tr style=\"text-align: right;\">\n",
       "      <th></th>\n",
       "      <th>Model</th>\n",
       "      <th>R2 Score</th>\n",
       "    </tr>\n",
       "  </thead>\n",
       "  <tbody>\n",
       "    <tr>\n",
       "      <th>8</th>\n",
       "      <td>Tuned Random Forest Classifier</td>\n",
       "      <td>71.168624</td>\n",
       "    </tr>\n",
       "    <tr>\n",
       "      <th>1</th>\n",
       "      <td>Random Forest Classifier</td>\n",
       "      <td>71.029117</td>\n",
       "    </tr>\n",
       "    <tr>\n",
       "      <th>2</th>\n",
       "      <td>Decision Tree Classifier</td>\n",
       "      <td>69.355038</td>\n",
       "    </tr>\n",
       "    <tr>\n",
       "      <th>5</th>\n",
       "      <td>Support Vector Classifier</td>\n",
       "      <td>68.006473</td>\n",
       "    </tr>\n",
       "    <tr>\n",
       "      <th>3</th>\n",
       "      <td>Ada Boost Classifier</td>\n",
       "      <td>57.403967</td>\n",
       "    </tr>\n",
       "    <tr>\n",
       "      <th>0</th>\n",
       "      <td>Gradient Boosting Classifier</td>\n",
       "      <td>55.915896</td>\n",
       "    </tr>\n",
       "    <tr>\n",
       "      <th>4</th>\n",
       "      <td>Logistic Regression</td>\n",
       "      <td>55.729887</td>\n",
       "    </tr>\n",
       "    <tr>\n",
       "      <th>7</th>\n",
       "      <td>Polynomial Kernel SVM</td>\n",
       "      <td>55.497376</td>\n",
       "    </tr>\n",
       "    <tr>\n",
       "      <th>6</th>\n",
       "      <td>Stochastic Gradient Descent</td>\n",
       "      <td>55.450874</td>\n",
       "    </tr>\n",
       "  </tbody>\n",
       "</table>\n",
       "</div>"
      ],
      "text/plain": [
       "                            Model   R2 Score\n",
       "8  Tuned Random Forest Classifier  71.168624\n",
       "1        Random Forest Classifier  71.029117\n",
       "2        Decision Tree Classifier  69.355038\n",
       "5       Support Vector Classifier  68.006473\n",
       "3            Ada Boost Classifier  57.403967\n",
       "0    Gradient Boosting Classifier  55.915896\n",
       "4             Logistic Regression  55.729887\n",
       "7           Polynomial Kernel SVM  55.497376\n",
       "6     Stochastic Gradient Descent  55.450874"
      ]
     },
     "execution_count": 60,
     "metadata": {},
     "output_type": "execute_result"
    }
   ],
   "source": [
    "# calculate the R2 score for each model\n",
    "r2_rfc = r2_score(y_test, pred_rfc) * 100\n",
    "r2_sgd = r2_score(y_test, pred_sgd) * 100\n",
    "r2_lsvc = r2_score(y_test, pred_lsvc) * 100\n",
    "r2_svc = r2_score(y_test, pred_svc) * 100\n",
    "r2_lgr = r2_score(y_test, pred_lgr) * 100\n",
    "r2_dtc = r2_score(y_test, pred_dtc) * 100\n",
    "r2_gbc = r2_score(y_test, pred_gbc) * 100\n",
    "r2_ada = r2_score(y_test, pred_ada) * 100\n",
    "r2_bag = r2_score(y_test, pred_bag) * 100\n",
    "r2_pas = r2_score(y_test, pred_pas) * 100\n",
    "r2_poly_svm = r2_score(y_test, pred_poly_svm) * 100\n",
    "r2_poly_kernel_svm = r2_score(y_test, pred_poly_kernel_svm) * 100\n",
    "r2_rfc_tuned = r2_score(y_test, pred_rfc_tuned) * 100\n",
    "\n",
    "# print the R2 score for each model\n",
    "print(\"R2 score for Random Forest Classifier:\", r2_rfc, \"%\")\n",
    "print(\"R2 score for Stochastic Gradient Descent:\", r2_sgd, \"%\")\n",
    "print(\"R2 score for Linear Support Vector Classifier:\", r2_lsvc, \"%\")\n",
    "print(\"R2 score for Support Vector Classifier:\", r2_svc, \"%\")\n",
    "print(\"R2 score for Logistic Regression:\", r2_lgr, \"%\")\n",
    "print(\"R2 score for Decision Tree Classifier:\", r2_dtc, \"%\")\n",
    "print(\"R2 score for Gradient Boosting Classifier:\", r2_gbc, \"%\")\n",
    "print(\"R2 score for Ada Boost Classifier:\", r2_ada, \"%\")\n",
    "print(\"R2 score for Bagging Classifier:\", r2_bag, \"%\")\n",
    "print(\"R2 score for Pasting Classifier:\", r2_pas, \"%\")\n",
    "print(\"R2 score for Polynomial SVM:\", r2_poly_svm, \"%\")\n",
    "print(\"R2 score for Polynomial Kernel SVM:\", r2_poly_kernel_svm, \"%\")\n",
    "print(\"R2 score for Tuned Random Forest Classifier:\", r2_rfc_tuned, \"%\")\n",
    "\n",
    "# create a table of the R2 score for each model\n",
    "r2_table = pd.DataFrame({\n",
    "    \"Model\": [\"Gradient Boosting Classifier\", \"Random Forest Classifier\", \"Decision Tree Classifier\", \"Ada Boost Classifier\", \"Logistic Regression\", \"Support Vector Classifier\", \"Stochastic Gradient Descent\", \"Polynomial Kernel SVM\", \"Tuned Random Forest Classifier\"],\n",
    "    \"R2 Score\": [r2_gbc, r2_rfc, r2_dtc, r2_ada, r2_lgr, r2_svc, r2_sgd, r2_poly_kernel_svm, r2_rfc_tuned]\n",
    "})\n",
    "\n",
    "# sort the table by the R2 score\n",
    "r2_table.sort_values(by='R2 Score', ascending=False)"
   ]
  },
  {
   "attachments": {},
   "cell_type": "markdown",
   "metadata": {},
   "source": [
    "### Maatstaven voor nauwkeurigheid + voor- & nadelen"
   ]
  },
  {
   "attachments": {},
   "cell_type": "markdown",
   "metadata": {},
   "source": [
    "#### ROC AUC Score"
   ]
  },
  {
   "attachments": {},
   "cell_type": "markdown",
   "metadata": {},
   "source": [
    "**Uitleg**\n",
    "- ROC AUC Score is de oppervlakte onder de ROC Curve (deze visualiseert de True Positive Rate ten opzichte van de False Positive Rate). Hoe dichter deze waarde bij 1 ligt, hoe beter het model.\n",
    "<br><br>\n",
    "\n",
    "**Voordelen**\n",
    "- Nuttig wanneer je zowel gevoeligheid (sensitivity) als specificiteit (specificity) wilt optimaliseren en wanneer klassen ongebalanceerd zijn.\n",
    "<br><br>\n",
    "\n",
    "**Nadelen**\n",
    "- Kan misleidend zijn wanneer de klassen zeer ongebalanceerd zijn.\n",
    "- Het houdt ook geen rekening met True Negative Rate en False Negative Rate."
   ]
  },
  {
   "attachments": {},
   "cell_type": "markdown",
   "metadata": {},
   "source": [
    "#### Accuracy Score"
   ]
  },
  {
   "attachments": {},
   "cell_type": "markdown",
   "metadata": {},
   "source": [
    "**Uitleg**\n",
    "- Accuracy Score meet de verhouding van correct voorspellingen ten opzichte van het totaal aantal voorspellingen.\n",
    "<br><br>\n",
    "\n",
    "**Voordelen**\n",
    "- Eenvoudig en intuïtief.\n",
    "- Makkelijk te interpreteren.\n",
    "<br><br>\n",
    "\n",
    "**Nadelen**\n",
    "- Kan misleidend zijn wanneer klassen ongebalanceerd zijn."
   ]
  },
  {
   "attachments": {},
   "cell_type": "markdown",
   "metadata": {},
   "source": [
    "#### Cross Validation Score"
   ]
  },
  {
   "attachments": {},
   "cell_type": "markdown",
   "metadata": {},
   "source": [
    "**Uitleg**\n",
    "- Cross Validation Score meet de algemene prestaties van het model, het is een maatstaf voor hoe goed het model in staat is om te generaliseren naar nieuwe, ongeziene data.\n",
    "<br><br>\n",
    "\n",
    "**Voordelen**\n",
    "- Het helpt overfitting to voorkomen.\n",
    "- Het helpt bij het kiezen van de beste hyperparameters.\n",
    "<br><br>\n",
    "\n",
    "**Nadelen**\n",
    "- Het is computationally expensive, het vergt meer tijd en rekenkracht.\n",
    "- Het kan leiden tot inconsistentie."
   ]
  },
  {
   "attachments": {},
   "cell_type": "markdown",
   "metadata": {},
   "source": [
    "#### Precision Score"
   ]
  },
  {
   "attachments": {},
   "cell_type": "markdown",
   "metadata": {},
   "source": [
    "**Uitleg**\n",
    "- Precision Score meet de verhouding van de True Positives ten opzichte van alle voorspelde Positives.\n",
    "<br><br>\n",
    "\n",
    "**Voordelen**\n",
    "- Nuttig wanneer de kost van de False Positives hoog zijn.\n",
    "<br><br>\n",
    "\n",
    "**Nadelen**\n",
    "- Kan misleidend zijn wanneer klassen ongebalanceerd zijn.\n",
    "- Het houdt geen rekening met False Negatives."
   ]
  },
  {
   "attachments": {},
   "cell_type": "markdown",
   "metadata": {},
   "source": [
    "#### Recall Score"
   ]
  },
  {
   "attachments": {},
   "cell_type": "markdown",
   "metadata": {},
   "source": [
    "**Uitleg**\n",
    "- Recall Score meet de verhouding van de True Positives ten opzichte van alle werkelijke Positives.\n",
    "<br><br>\n",
    "\n",
    "**Voordelen**\n",
    "- Nuttig wanneer de kost van alle False Negatives hoog zijn.\n",
    "<br><br>\n",
    "\n",
    "**Nadelen**\n",
    "- Kan misleidend zijn wanneer de klassen ongebalanceerd zijn.\n",
    "- Het houdt geen rekening met False Positives."
   ]
  },
  {
   "attachments": {},
   "cell_type": "markdown",
   "metadata": {},
   "source": [
    "#### F1 Score"
   ]
  },
  {
   "attachments": {},
   "cell_type": "markdown",
   "metadata": {},
   "source": [
    "**Uitleg**\n",
    "- F1 Score is het harmonic gemiddelde van Precision en Recall score en balanceert tussen beide.\n",
    "<br><br>\n",
    "\n",
    "**Voordelen**\n",
    "- Nuttig wanneer je zowel Precision als Recall tegelijkertijd wilt gebruiken/optimaliseren.\n",
    "<br><br>\n",
    "\n",
    "**Nadelen**\n",
    "- Kan misleidend zijn wanneer de klassen ongebalanceerd zijn.\n",
    "- Het houdt geen rekening met True Negatives."
   ]
  },
  {
   "attachments": {},
   "cell_type": "markdown",
   "metadata": {},
   "source": [
    "#### R2 Score"
   ]
  },
  {
   "attachments": {},
   "cell_type": "markdown",
   "metadata": {},
   "source": [
    "**Uitleg**\n",
    "- R2 Score meet de verhouding van die variantie in de target variable die wordt verklaard door het model.\n",
    "<br><br>\n",
    "\n",
    "**Voordelen**\n",
    "- Nuttig bij regressieproblemen wanneer je wilt meten hoe goed je model past bij de data.\n",
    "<br><br>\n",
    "\n",
    "**Nadelen**\n",
    "- Kan beïnvloed worden door uitschieters.\n",
    "- Het houdt geen rekening met de complexiteit van het model."
   ]
  },
  {
   "attachments": {},
   "cell_type": "markdown",
   "metadata": {},
   "source": [
    "### Confusion matrix voor de 2 klassen (robot of geen robot)"
   ]
  },
  {
   "attachments": {},
   "cell_type": "markdown",
   "metadata": {},
   "source": [
    "#### Random Forest Classifier"
   ]
  },
  {
   "cell_type": "code",
   "execution_count": 61,
   "metadata": {},
   "outputs": [
    {
     "data": {
      "text/plain": [
       "<sklearn.metrics._plot.confusion_matrix.ConfusionMatrixDisplay at 0x2a121047d30>"
      ]
     },
     "execution_count": 61,
     "metadata": {},
     "output_type": "execute_result"
    },
    {
     "data": {
      "image/png": "[encoded data removed]",
      "text/plain": [
       "<Figure size 432x288 with 2 Axes>"
      ]
     },
     "metadata": {
      "needs_background": "light"
     },
     "output_type": "display_data"
    }
   ],
   "source": [
    "cm_rfc = ConfusionMatrixDisplay(confusion_matrix(y_test, pred_rfc), display_labels=rfc.classes_)\n",
    "cm_rfc.plot(cmap='Blues', values_format='d')"
   ]
  },
  {
   "attachments": {},
   "cell_type": "markdown",
   "metadata": {},
   "source": [
    "#### Stochastic Gradient Descent Classifier"
   ]
  },
  {
   "cell_type": "code",
   "execution_count": 62,
   "metadata": {},
   "outputs": [
    {
     "data": {
      "text/plain": [
       "<sklearn.metrics._plot.confusion_matrix.ConfusionMatrixDisplay at 0x2a1301d6df0>"
      ]
     },
     "execution_count": 62,
     "metadata": {},
     "output_type": "execute_result"
    },
    {
     "data": {
      "image/png": "[encoded data removed]",
      "text/plain": [
       "<Figure size 432x288 with 2 Axes>"
      ]
     },
     "metadata": {
      "needs_background": "light"
     },
     "output_type": "display_data"
    }
   ],
   "source": [
    "cm_sgd = ConfusionMatrixDisplay(confusion_matrix(y_test, pred_sgd), display_labels=sgd.classes_)\n",
    "cm_sgd.plot(cmap='Blues', values_format='d')"
   ]
  },
  {
   "attachments": {},
   "cell_type": "markdown",
   "metadata": {},
   "source": [
    "#### Linear Support Vector Machine Classifier"
   ]
  },
  {
   "cell_type": "code",
   "execution_count": 63,
   "metadata": {},
   "outputs": [
    {
     "data": {
      "text/plain": [
       "<sklearn.metrics._plot.confusion_matrix.ConfusionMatrixDisplay at 0x2a1333d48b0>"
      ]
     },
     "execution_count": 63,
     "metadata": {},
     "output_type": "execute_result"
    },
    {
     "data": {
      "image/png": "[encoded data removed]",
      "text/plain": [
       "<Figure size 432x288 with 2 Axes>"
      ]
     },
     "metadata": {
      "needs_background": "light"
     },
     "output_type": "display_data"
    }
   ],
   "source": [
    "cm_lsvc = ConfusionMatrixDisplay(confusion_matrix(y_test, pred_lsvc), display_labels=lsvc.classes_)\n",
    "cm_lsvc.plot(cmap='Blues', values_format='d')"
   ]
  },
  {
   "attachments": {},
   "cell_type": "markdown",
   "metadata": {},
   "source": [
    "#### Support Vector Machine Classifier"
   ]
  },
  {
   "cell_type": "code",
   "execution_count": 64,
   "metadata": {},
   "outputs": [
    {
     "data": {
      "text/plain": [
       "<sklearn.metrics._plot.confusion_matrix.ConfusionMatrixDisplay at 0x2a12fecbe80>"
      ]
     },
     "execution_count": 64,
     "metadata": {},
     "output_type": "execute_result"
    },
    {
     "data": {
      "image/png": "[encoded data removed]",
      "text/plain": [
       "<Figure size 432x288 with 2 Axes>"
      ]
     },
     "metadata": {
      "needs_background": "light"
     },
     "output_type": "display_data"
    }
   ],
   "source": [
    "cm_svc = ConfusionMatrixDisplay(confusion_matrix(y_test, pred_svc), display_labels=svc.classes_)\n",
    "cm_svc.plot(cmap='Blues', values_format='d')"
   ]
  },
  {
   "attachments": {},
   "cell_type": "markdown",
   "metadata": {},
   "source": [
    "#### Logistic Regression"
   ]
  },
  {
   "cell_type": "code",
   "execution_count": 65,
   "metadata": {},
   "outputs": [
    {
     "data": {
      "text/plain": [
       "<sklearn.metrics._plot.confusion_matrix.ConfusionMatrixDisplay at 0x2a130020610>"
      ]
     },
     "execution_count": 65,
     "metadata": {},
     "output_type": "execute_result"
    },
    {
     "data": {
      "image/png": "[encoded data removed]",
      "text/plain": [
       "<Figure size 432x288 with 2 Axes>"
      ]
     },
     "metadata": {
      "needs_background": "light"
     },
     "output_type": "display_data"
    }
   ],
   "source": [
    "cm_lgr = ConfusionMatrixDisplay(confusion_matrix(y_test, pred_lgr), display_labels=lgr.classes_)\n",
    "cm_lgr.plot(cmap='Blues', values_format='d')"
   ]
  },
  {
   "attachments": {},
   "cell_type": "markdown",
   "metadata": {},
   "source": [
    "#### Decision Tree Classifier"
   ]
  },
  {
   "cell_type": "code",
   "execution_count": 66,
   "metadata": {},
   "outputs": [
    {
     "data": {
      "text/plain": [
       "<sklearn.metrics._plot.confusion_matrix.ConfusionMatrixDisplay at 0x2a13003f310>"
      ]
     },
     "execution_count": 66,
     "metadata": {},
     "output_type": "execute_result"
    },
    {
     "data": {
      "image/png": "[encoded data removed]",
      "text/plain": [
       "<Figure size 432x288 with 2 Axes>"
      ]
     },
     "metadata": {
      "needs_background": "light"
     },
     "output_type": "display_data"
    }
   ],
   "source": [
    "cm_dtc = ConfusionMatrixDisplay(confusion_matrix(y_test, pred_dtc), display_labels=dtc.classes_)\n",
    "cm_dtc.plot(cmap='Blues', values_format='d')"
   ]
  },
  {
   "attachments": {},
   "cell_type": "markdown",
   "metadata": {},
   "source": [
    "#### Gradient Boosting Classifier"
   ]
  },
  {
   "cell_type": "code",
   "execution_count": 67,
   "metadata": {},
   "outputs": [
    {
     "data": {
      "text/plain": [
       "<sklearn.metrics._plot.confusion_matrix.ConfusionMatrixDisplay at 0x2a107d0a850>"
      ]
     },
     "execution_count": 67,
     "metadata": {},
     "output_type": "execute_result"
    },
    {
     "data": {
      "image/png": "[encoded data removed]",
      "text/plain": [
       "<Figure size 432x288 with 2 Axes>"
      ]
     },
     "metadata": {
      "needs_background": "light"
     },
     "output_type": "display_data"
    }
   ],
   "source": [
    "cm_gbc = ConfusionMatrixDisplay(confusion_matrix(y_test, pred_gbc), display_labels=gbc.classes_)\n",
    "cm_gbc.plot(cmap='Blues', values_format='d')"
   ]
  },
  {
   "attachments": {},
   "cell_type": "markdown",
   "metadata": {},
   "source": [
    "#### AdaBoost Classifier"
   ]
  },
  {
   "cell_type": "code",
   "execution_count": 68,
   "metadata": {},
   "outputs": [
    {
     "data": {
      "text/plain": [
       "<sklearn.metrics._plot.confusion_matrix.ConfusionMatrixDisplay at 0x2a12f6dadf0>"
      ]
     },
     "execution_count": 68,
     "metadata": {},
     "output_type": "execute_result"
    },
    {
     "data": {
      "image/png": "[encoded data removed]",
      "text/plain": [
       "<Figure size 432x288 with 2 Axes>"
      ]
     },
     "metadata": {
      "needs_background": "light"
     },
     "output_type": "display_data"
    }
   ],
   "source": [
    "cm_ada = ConfusionMatrixDisplay(confusion_matrix(y_test, pred_ada), display_labels=ada.classes_)\n",
    "cm_ada.plot(cmap='Blues', values_format='d')"
   ]
  },
  {
   "attachments": {},
   "cell_type": "markdown",
   "metadata": {},
   "source": [
    "#### Bagging Classifier"
   ]
  },
  {
   "cell_type": "code",
   "execution_count": 69,
   "metadata": {},
   "outputs": [
    {
     "data": {
      "text/plain": [
       "<sklearn.metrics._plot.confusion_matrix.ConfusionMatrixDisplay at 0x2a12116cfa0>"
      ]
     },
     "execution_count": 69,
     "metadata": {},
     "output_type": "execute_result"
    },
    {
     "data": {
      "image/png": "[encoded data removed]",
      "text/plain": [
       "<Figure size 432x288 with 2 Axes>"
      ]
     },
     "metadata": {
      "needs_background": "light"
     },
     "output_type": "display_data"
    }
   ],
   "source": [
    "cm_bag = ConfusionMatrixDisplay(confusion_matrix(y_test, pred_bag), display_labels=bagging.classes_)\n",
    "cm_bag.plot(cmap='Blues', values_format='d')"
   ]
  },
  {
   "attachments": {},
   "cell_type": "markdown",
   "metadata": {},
   "source": [
    "#### Pasting Classifier"
   ]
  },
  {
   "cell_type": "code",
   "execution_count": 70,
   "metadata": {},
   "outputs": [
    {
     "data": {
      "text/plain": [
       "<sklearn.metrics._plot.confusion_matrix.ConfusionMatrixDisplay at 0x2a12116c370>"
      ]
     },
     "execution_count": 70,
     "metadata": {},
     "output_type": "execute_result"
    },
    {
     "data": {
      "image/png": "[encoded data removed]",
      "text/plain": [
       "<Figure size 432x288 with 2 Axes>"
      ]
     },
     "metadata": {
      "needs_background": "light"
     },
     "output_type": "display_data"
    }
   ],
   "source": [
    "cm_pas = ConfusionMatrixDisplay(confusion_matrix(y_test, pred_pas), display_labels=pasting.classes_)\n",
    "cm_pas.plot(cmap='Blues', values_format='d')"
   ]
  },
  {
   "attachments": {},
   "cell_type": "markdown",
   "metadata": {},
   "source": [
    "#### Polynomial Super Vector Machine"
   ]
  },
  {
   "cell_type": "code",
   "execution_count": 71,
   "metadata": {},
   "outputs": [
    {
     "data": {
      "text/plain": [
       "<sklearn.metrics._plot.confusion_matrix.ConfusionMatrixDisplay at 0x2a1210f6730>"
      ]
     },
     "execution_count": 71,
     "metadata": {},
     "output_type": "execute_result"
    },
    {
     "data": {
      "image/png": "[encoded data removed]",
      "text/plain": [
       "<Figure size 432x288 with 2 Axes>"
      ]
     },
     "metadata": {
      "needs_background": "light"
     },
     "output_type": "display_data"
    }
   ],
   "source": [
    "cm_poly_svm = ConfusionMatrixDisplay(confusion_matrix(y_test, pred_poly_svm), display_labels=poly_svm.classes_)\n",
    "cm_poly_svm.plot(cmap='Blues', values_format='d')"
   ]
  },
  {
   "attachments": {},
   "cell_type": "markdown",
   "metadata": {},
   "source": [
    "#### Polynomial Kernel"
   ]
  },
  {
   "cell_type": "code",
   "execution_count": 72,
   "metadata": {},
   "outputs": [
    {
     "data": {
      "text/plain": [
       "<sklearn.metrics._plot.confusion_matrix.ConfusionMatrixDisplay at 0x2a13000bbb0>"
      ]
     },
     "execution_count": 72,
     "metadata": {},
     "output_type": "execute_result"
    },
    {
     "data": {
      "image/png": "[encoded data removed]",
      "text/plain": [
       "<Figure size 432x288 with 2 Axes>"
      ]
     },
     "metadata": {
      "needs_background": "light"
     },
     "output_type": "display_data"
    }
   ],
   "source": [
    "cm_poly_kernel = ConfusionMatrixDisplay(confusion_matrix(y_test, pred_poly_kernel_svm), display_labels=poly_kernel_svm.classes_)\n",
    "cm_poly_kernel.plot(cmap='Blues', values_format='d')"
   ]
  },
  {
   "attachments": {},
   "cell_type": "markdown",
   "metadata": {},
   "source": [
    "#### Tuned Random Forest Classifier"
   ]
  },
  {
   "cell_type": "code",
   "execution_count": 73,
   "metadata": {},
   "outputs": [
    {
     "data": {
      "text/plain": [
       "<sklearn.metrics._plot.confusion_matrix.ConfusionMatrixDisplay at 0x2a1182c7e50>"
      ]
     },
     "execution_count": 73,
     "metadata": {},
     "output_type": "execute_result"
    },
    {
     "data": {
      "image/png": "[encoded data removed]",
      "text/plain": [
       "<Figure size 432x288 with 2 Axes>"
      ]
     },
     "metadata": {
      "needs_background": "light"
     },
     "output_type": "display_data"
    }
   ],
   "source": [
    "cm_rfc_tuned = ConfusionMatrixDisplay(confusion_matrix(y_test, pred_rfc_tuned), display_labels=rfc_tuned.classes_)\n",
    "cm_rfc_tuned.plot(cmap='Blues', values_format='d')"
   ]
  },
  {
   "attachments": {},
   "cell_type": "markdown",
   "metadata": {},
   "source": [
    "### Maatstaf voor zo weinig mogelijk menselijke sessies per vergissing cancelen"
   ]
  },
  {
   "attachments": {},
   "cell_type": "markdown",
   "metadata": {},
   "source": [
    "We willen zo weinig mogelijk mensen beschouwen als robots dus we willen zo weinig mogelijk 0 (mens) die als 1 (robot) worden geschat.\n",
    "We moeten dus het aantal False Positives zo sterk mogelijk beperken.\n",
    "Hierbij is de Precision score het belangrijkst."
   ]
  },
  {
   "attachments": {},
   "cell_type": "markdown",
   "metadata": {},
   "source": [
    "## Conclusie"
   ]
  },
  {
   "attachments": {},
   "cell_type": "markdown",
   "metadata": {},
   "source": [
    "### Conclusie gekozen model"
   ]
  },
  {
   "attachments": {},
   "cell_type": "markdown",
   "metadata": {},
   "source": [
    "We zien dat in het algemeen de Tuned Random Forest Classifier voor de beste scores zorgt. We hadden hierboven dus daarop nog een gridsearch uitgevoerd om de parameters verder te optimaliseren en zo dus het beste model nog beter te maken."
   ]
  },
  {
   "attachments": {},
   "cell_type": "markdown",
   "metadata": {},
   "source": [
    "De belangrijkste score waarop we ons kunnen baseren voor de goedheid van ons model is de precision score. Bij deze score is Tuned Random Forest Classifier de beste."
   ]
  },
  {
   "attachments": {},
   "cell_type": "markdown",
   "metadata": {},
   "source": [
    "### Conclusie nuttige maatstaven"
   ]
  },
  {
   "attachments": {},
   "cell_type": "markdown",
   "metadata": {},
   "source": [
    "1. De accuracy score spreekt voor zich dat dit een belangrijke maatstaf zal worden.\n",
    "2. De precision score is ook belangrijk: we willen zo weinig mogelijk mensen als robots beschouwen dus zo weinig mogelijk False Positives hebben.\n",
    "3. De recall score is in ons geval iets minder belangrijk dan de precision score maar het zegt nog steeds redelijk wat over ons model.\n",
    "4. Hetzelfde geldt voor de F1 score, deze probeert een balans te zoeken tussen precision en recall.\n",
    "5. R2 is niet handig voor ons, deze score is eerder gemaakt voor regressiemodellen en dit is dus voor ons niet van toepassing. Het gaat ook niet evalueren op de 'individuele' predictions maar op het geheel van het model."
   ]
  },
  {
   "attachments": {},
   "cell_type": "markdown",
   "metadata": {},
   "source": [
    "Samenvattend zijn de scores waarop we ons gaan baseren:\n",
    "1. Precision score\n",
    "2. Accuracy score"
   ]
  }
 ],
 "metadata": {
  "kernelspec": {
   "display_name": "base",
   "language": "python",
   "name": "python3"
  },
  "language_info": {
   "codemirror_mode": {
    "name": "ipython",
    "version": 3
   },
   "file_extension": ".py",
   "mimetype": "text/x-python",
   "name": "python",
   "nbconvert_exporter": "python",
   "pygments_lexer": "ipython3",
   "version": "3.9.12"
  },
  "orig_nbformat": 4
 },
 "nbformat": 4,
 "nbformat_minor": 2
}
